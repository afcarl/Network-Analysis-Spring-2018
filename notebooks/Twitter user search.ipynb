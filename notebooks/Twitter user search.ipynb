{
 "cells": [
  {
   "cell_type": "code",
   "execution_count": 1,
   "metadata": {},
   "outputs": [],
   "source": [
    "%matplotlib inline\n",
    "\n",
    "import tweepy as tw\n",
    "import json\n",
    "import pandas as pd\n",
    "import numpy as np\n",
    "\n",
    "from collections import defaultdict, Counter\n",
    "import os\n",
    "from IPython.display import clear_output\n",
    "\n",
    "import networkx as nx\n",
    "\n",
    "\n",
    "import matplotlib.pyplot as plt\n",
    "import seaborn as sns\n",
    "\n",
    "from io import StringIO\n",
    "from pydotplus import graph_from_dot_data\n",
    "import matplotlib.image as mpimg"
   ]
  },
  {
   "cell_type": "code",
   "execution_count": 2,
   "metadata": {},
   "outputs": [],
   "source": [
    "sns.set_context(\"poster\")\n",
    "sns.set_style(\"ticks\")"
   ]
  },
  {
   "cell_type": "code",
   "execution_count": 3,
   "metadata": {},
   "outputs": [],
   "source": [
    "DATA_DIR=\"../data\"\n",
    "TWITTER_CONFIG_FILE=os.path.join(DATA_DIR, \"twitter_config.json\")"
   ]
  },
  {
   "cell_type": "markdown",
   "metadata": {},
   "source": [
    "## Twitter Access Tokens\n",
    "\n",
    "If you are proceeding further then you are expected to have created your Twitter application by following the steps from [Twitter App Creation](https://dev.twitter.com/oauth/overview/application-owner-access-tokens) page. \n",
    "\n",
    "Make sure you have the following details of your Twitter application readily available:\n",
    "* 'access_token'\n",
    "* 'access_token_secret'\n",
    "* 'consumer_key'\n",
    "* 'consumer_secret'\n",
    "\n",
    "Please enter the value of each of the items as shown in your Twitter application, when prompted by the code below.\n"
   ]
  },
  {
   "cell_type": "code",
   "execution_count": 4,
   "metadata": {},
   "outputs": [],
   "source": [
    "if not os.path.isfile(TWITTER_CONFIG_FILE):\n",
    "    with open(os.path.join(DATA_DIR, \"twitter_config.sample.json\")) as fp:\n",
    "        creds = json.load(fp)\n",
    "        for k in sorted(creds.keys()):\n",
    "            v = input(\"Enter %s:\\t\" % k)\n",
    "            creds[k] = v\n",
    "    print(creds)\n",
    "    with open(TWITTER_CONFIG_FILE, \"w+\") as fp:\n",
    "        json.dump(creds, fp, indent=4, sort_keys=True)\n",
    "    clear_output()\n",
    "    print(\"Printed credentials to file %s\" % TWITTER_CONFIG_FILE)"
   ]
  },
  {
   "cell_type": "code",
   "execution_count": 5,
   "metadata": {},
   "outputs": [
    {
     "name": "stdout",
     "output_type": "stream",
     "text": [
      "dict_keys(['consumer_key', 'consumer_secret', 'access_token', 'access_token_secret'])\n"
     ]
    }
   ],
   "source": [
    "with open(TWITTER_CONFIG_FILE) as fp:\n",
    "    creds = json.load(fp)\n",
    "print(creds.keys())"
   ]
  },
  {
   "cell_type": "code",
   "execution_count": 6,
   "metadata": {},
   "outputs": [
    {
     "name": "stdout",
     "output_type": "stream",
     "text": [
      "Tweepy ready for search\n"
     ]
    }
   ],
   "source": [
    "auth = tw.OAuthHandler(creds[\"consumer_key\"], creds[\"consumer_secret\"])\n",
    "auth.set_access_token(creds[\"access_token\"], creds[\"access_token_secret\"])\n",
    "api = tw.API(auth, wait_on_rate_limit=True, wait_on_rate_limit_notify=True,\n",
    "             retry_count=5, retry_delay=100, \n",
    "            )\n",
    "\n",
    "print(\"Tweepy ready for search\")"
   ]
  },
  {
   "cell_type": "code",
   "execution_count": 7,
   "metadata": {},
   "outputs": [
    {
     "data": {
      "text/plain": [
       "1000"
      ]
     },
     "execution_count": 7,
     "metadata": {},
     "output_type": "execute_result"
    }
   ],
   "source": [
    "users = []\n",
    "num_pages=50\n",
    "for i in range(num_pages):\n",
    "    users.extend(api.search_users(q=\"urbana illinois\", count=20, page=i))\n",
    "len(users)"
   ]
  },
  {
   "cell_type": "code",
   "execution_count": 8,
   "metadata": {},
   "outputs": [
    {
     "data": {
      "text/plain": [
       "'Illinois_Alma'"
      ]
     },
     "execution_count": 8,
     "metadata": {},
     "output_type": "execute_result"
    }
   ],
   "source": [
    "users[0].screen_name"
   ]
  },
  {
   "cell_type": "code",
   "execution_count": 9,
   "metadata": {},
   "outputs": [
    {
     "data": {
      "text/plain": [
       "8664"
      ]
     },
     "execution_count": 9,
     "metadata": {},
     "output_type": "execute_result"
    }
   ],
   "source": [
    "users[0].friends_count"
   ]
  },
  {
   "cell_type": "code",
   "execution_count": 10,
   "metadata": {},
   "outputs": [
    {
     "data": {
      "text/plain": [
       "287"
      ]
     },
     "execution_count": 10,
     "metadata": {},
     "output_type": "execute_result"
    }
   ],
   "source": [
    "users_100_friends = [user for user in users if user.friends_count <= 100]\n",
    "len(users_100_friends)"
   ]
  },
  {
   "cell_type": "code",
   "execution_count": 14,
   "metadata": {},
   "outputs": [
    {
     "name": "stdout",
     "output_type": "stream",
     "text": [
      "User dannydanr found 25 friends\n"
     ]
    }
   ],
   "source": [
    "friend_matrix = {}\n",
    "all_friends = {}\n",
    "num_users = 1\n",
    "for user in users_100_friends[:num_users]:\n",
    "    friends = []\n",
    "    for friend in tw.Cursor(api.friends, user_id=user.id).items():\n",
    "        if friend.screen_name not in all_friends:\n",
    "            all_friends[friend.screen_name] = friend\n",
    "        friends.append(friend.screen_name)\n",
    "        friend_matrix[user.screen_name] = friends\n",
    "    print(\"User {} found {} friends\".format(user.screen_name, len(friends)))"
   ]
  },
  {
   "cell_type": "code",
   "execution_count": 15,
   "metadata": {},
   "outputs": [
    {
     "data": {
      "text/plain": [
       "{'dannydanr': ['nitish_gup',\n",
       "  'Kordjamshidi',\n",
       "  'zehavoc',\n",
       "  'hadar_shemtov',\n",
       "  'AI2LAB',\n",
       "  'chrmanning',\n",
       "  'dropshot_lob',\n",
       "  'NexLP_Inc',\n",
       "  'Twitter',\n",
       "  'rogerfederer',\n",
       "  'etzioni',\n",
       "  'stanfordnlp',\n",
       "  'riedelcastro',\n",
       "  'darren_cahill',\n",
       "  'haldaume3',\n",
       "  'bgtennisnation',\n",
       "  'Martina',\n",
       "  'PHShriver',\n",
       "  'JAIR_Editor',\n",
       "  'rothella',\n",
       "  'edoroth',\n",
       "  'paulkrugman',\n",
       "  'usopen',\n",
       "  'BarackObama',\n",
       "  'roamnoth']}"
      ]
     },
     "execution_count": 15,
     "metadata": {},
     "output_type": "execute_result"
    }
   ],
   "source": [
    "friend_matrix"
   ]
  },
  {
   "cell_type": "code",
   "execution_count": 16,
   "metadata": {},
   "outputs": [
    {
     "data": {
      "text/plain": [
       "'Founder Professor of Computer Science at the University of Illinois at Urbana-Champaign.'"
      ]
     },
     "execution_count": 16,
     "metadata": {},
     "output_type": "execute_result"
    }
   ],
   "source": [
    "user.description"
   ]
  },
  {
   "cell_type": "code",
   "execution_count": 17,
   "metadata": {},
   "outputs": [],
   "source": [
    "def get_user_friends_desc_vector(user):\n",
    "    friends = friend_matrix[user.screen_name]\n",
    "    friend_desc = [all_friends[friend].description for friend in friends]\n",
    "    word_counts = Counter(sum([desc.lower().split() for desc in friend_desc], []))\n",
    "    return word_counts"
   ]
  },
  {
   "cell_type": "code",
   "execution_count": 18,
   "metadata": {},
   "outputs": [],
   "source": [
    "word_counts = get_user_friends_desc_vector(users_100_friends[0])"
   ]
  },
  {
   "cell_type": "code",
   "execution_count": 19,
   "metadata": {
    "scrolled": false
   },
   "outputs": [
    {
     "data": {
      "text/plain": [
       "Counter({'#ai': 1,\n",
       "         '#ai,': 1,\n",
       "         '#machinelearning': 1,\n",
       "         '#machinelearning,': 1,\n",
       "         '#usopen': 1,\n",
       "         '&': 7,\n",
       "         '(@chrmanning,': 1,\n",
       "         '(ai2);': 1,\n",
       "         '+': 1,\n",
       "         '--linkedin--': 1,\n",
       "         '...': 1,\n",
       "         '19': 1,\n",
       "         '2018': 1,\n",
       "         '27': 1,\n",
       "         '3': 1,\n",
       "         '9,': 1,\n",
       "         ':),used': 1,\n",
       "         '=automatic': 1,\n",
       "         '@bloomsburyai,': 1,\n",
       "         '@factmata.': 1,\n",
       "         '@jurafsky': 1,\n",
       "         '@msftresearch;': 1,\n",
       "         '@nytopinion.': 1,\n",
       "         '@penn': 1,\n",
       "         '@percyliang)': 1,\n",
       "         '@stanford.': 1,\n",
       "         '@stanfordnlp.': 1,\n",
       "         '@uclmr,': 1,\n",
       "         '@umd_lsc,': 1,\n",
       "         '@umdclip;': 1,\n",
       "         '@umdcs': 1,\n",
       "         'a': 2,\n",
       "         'about': 2,\n",
       "         'about.': 1,\n",
       "         'abroad': 1,\n",
       "         'actionable': 1,\n",
       "         'advances': 1,\n",
       "         'advisor': 1,\n",
       "         'afl': 1,\n",
       "         'age': 1,\n",
       "         'ai': 1,\n",
       "         'ailen': 1,\n",
       "         'all': 1,\n",
       "         'allen': 1,\n",
       "         'analyst': 1,\n",
       "         'analyst,': 1,\n",
       "         'and': 7,\n",
       "         'any': 1,\n",
       "         'are': 1,\n",
       "         'assistant': 1,\n",
       "         'associate': 1,\n",
       "         'at': 4,\n",
       "         'august': 1,\n",
       "         'aussie': 1,\n",
       "         'author,': 2,\n",
       "         'be': 2,\n",
       "         'best-selling': 1,\n",
       "         'block.': 1,\n",
       "         'book': 1,\n",
       "         'born': 1,\n",
       "         'brad': 1,\n",
       "         'can': 1,\n",
       "         'care': 1,\n",
       "         'ceo,': 1,\n",
       "         'championships': 1,\n",
       "         'chill,': 1,\n",
       "         'citizen.': 2,\n",
       "         'coach': 1,\n",
       "         'coach,': 1,\n",
       "         'columnist,': 1,\n",
       "         'computational': 1,\n",
       "         'computer': 1,\n",
       "         'cs': 1,\n",
       "         'cs,': 1,\n",
       "         'currently': 1,\n",
       "         'dad,': 1,\n",
       "         'data': 2,\n",
       "         'day,': 1,\n",
       "         'dc.': 1,\n",
       "         'dedications': 1,\n",
       "         'depression': 1,\n",
       "         'different': 1,\n",
       "         'diminished': 1,\n",
       "         'do': 2,\n",
       "         'dog,': 1,\n",
       "         'economics,”': 1,\n",
       "         'engaged': 1,\n",
       "         'engine™': 1,\n",
       "         'enthusiast.': 1,\n",
       "         'espn': 2,\n",
       "         'espn,': 1,\n",
       "         'expectations”': 1,\n",
       "         'family': 1,\n",
       "         'fan,': 1,\n",
       "         'fan.': 1,\n",
       "         'find': 1,\n",
       "         'for': 2,\n",
       "         'founding': 1,\n",
       "         'freely': 1,\n",
       "         'from': 1,\n",
       "         'gilbert:': 1,\n",
       "         'great': 2,\n",
       "         'guitars,': 1,\n",
       "         'halep.': 1,\n",
       "         'hand?': 1,\n",
       "         'happening.': 1,\n",
       "         'happy': 1,\n",
       "         'head': 1,\n",
       "         'https://t.co/5nbnjnvjga': 1,\n",
       "         'https://t.co/heevrrcfxn': 1,\n",
       "         'https://t.co/sxv9s3slcd': 1,\n",
       "         'https://t.co/tqo84wea9i': 1,\n",
       "         'husband,': 1,\n",
       "         'i': 2,\n",
       "         \"i'm\": 1,\n",
       "         'ihmc.': 1,\n",
       "         'in': 6,\n",
       "         'including': 1,\n",
       "         'independence': 1,\n",
       "         'insight.': 1,\n",
       "         'institute': 1,\n",
       "         'interested': 1,\n",
       "         'into': 1,\n",
       "         'is': 1,\n",
       "         'it.': 1,\n",
       "         'just': 1,\n",
       "         'knowledge.': 1,\n",
       "         'language': 2,\n",
       "         'language—machine': 1,\n",
       "         'latest': 1,\n",
       "         'laureate.': 1,\n",
       "         'learning': 1,\n",
       "         'learning.': 1,\n",
       "         'learning—deep': 1,\n",
       "         'life': 1,\n",
       "         'linguistics,': 1,\n",
       "         'linguistics—natural': 1,\n",
       "         'living': 1,\n",
       "         'love': 1,\n",
       "         'love,': 1,\n",
       "         'lovely': 1,\n",
       "         'machine': 1,\n",
       "         'madrona.': 1,\n",
       "         'married': 1,\n",
       "         'maths,': 1,\n",
       "         'me': 1,\n",
       "         'member': 2,\n",
       "         'misc': 1,\n",
       "         'ml': 1,\n",
       "         'more.': 1,\n",
       "         'mother': 1,\n",
       "         'my': 2,\n",
       "         'natural': 2,\n",
       "         'need': 1,\n",
       "         'neuroscience': 1,\n",
       "         \"nexlp's\": 1,\n",
       "         'nfl': 1,\n",
       "         'nlp': 1,\n",
       "         'nlp,': 1,\n",
       "         'nlp.': 1,\n",
       "         'nlp/ml': 1,\n",
       "         'nobel': 1,\n",
       "         'now,': 1,\n",
       "         'ny': 1,\n",
       "         'obsessed': 1,\n",
       "         'of': 11,\n",
       "         'official': 2,\n",
       "         'on': 1,\n",
       "         'op-ed': 1,\n",
       "         'our': 1,\n",
       "         'out': 2,\n",
       "         'own.': 1,\n",
       "         'partner,': 1,\n",
       "         'phd': 2,\n",
       "         'play': 1,\n",
       "         'played': 1,\n",
       "         'player': 1,\n",
       "         'president,': 1,\n",
       "         'processing,': 1,\n",
       "         'processing.': 1,\n",
       "         'prof': 1,\n",
       "         'prof.': 1,\n",
       "         'professional': 1,\n",
       "         'professor': 2,\n",
       "         'professor,': 1,\n",
       "         'rescue': 1,\n",
       "         'research': 2,\n",
       "         'researcher': 2,\n",
       "         'return': 1,\n",
       "         'school': 1,\n",
       "         'science': 1,\n",
       "         'scientist': 1,\n",
       "         'september': 1,\n",
       "         'set.': 1,\n",
       "         'silicon': 1,\n",
       "         'simona': 1,\n",
       "         'sisters4good!': 1,\n",
       "         'site': 1,\n",
       "         'source': 1,\n",
       "         'speak': 1,\n",
       "         'sports': 2,\n",
       "         'squash': 1,\n",
       "         'stick': 1,\n",
       "         'story': 1,\n",
       "         'student': 2,\n",
       "         'stuffs': 1,\n",
       "         'talk': 1,\n",
       "         'technology': 1,\n",
       "         'telling': 1,\n",
       "         'tennis': 6,\n",
       "         'tennis,now': 1,\n",
       "         'tennis.': 2,\n",
       "         'terms': 1,\n",
       "         'that': 1,\n",
       "         'the': 2,\n",
       "         'think': 1,\n",
       "         'time': 1,\n",
       "         'to': 7,\n",
       "         'tulane': 1,\n",
       "         'turn': 1,\n",
       "         'tweeting': 1,\n",
       "         'tweets': 1,\n",
       "         'twins,': 1,\n",
       "         'university,': 1,\n",
       "         'unraveling,”': 1,\n",
       "         'up': 1,\n",
       "         'upenn.': 1,\n",
       "         'use:': 1,\n",
       "         'used': 1,\n",
       "         'uses': 1,\n",
       "         'uw;': 1,\n",
       "         'valley.': 1,\n",
       "         'venture': 1,\n",
       "         'views': 1,\n",
       "         'visit': 1,\n",
       "         'what': 1,\n",
       "         'what’s': 1,\n",
       "         'with': 1,\n",
       "         'work,': 1,\n",
       "         'working': 1,\n",
       "         'wta': 1,\n",
       "         'years': 1,\n",
       "         'yoga;': 1,\n",
       "         'your': 1,\n",
       "         '|': 2,\n",
       "         '“the': 3,\n",
       "         '👊1989.': 1})"
      ]
     },
     "execution_count": 19,
     "metadata": {},
     "output_type": "execute_result"
    }
   ],
   "source": [
    "word_counts"
   ]
  },
  {
   "cell_type": "code",
   "execution_count": null,
   "metadata": {},
   "outputs": [],
   "source": []
  }
 ],
 "metadata": {
  "anaconda-cloud": {},
  "kernelspec": {
   "display_name": "Python 3",
   "language": "python",
   "name": "python3"
  },
  "language_info": {
   "codemirror_mode": {
    "name": "ipython",
    "version": 3
   },
   "file_extension": ".py",
   "mimetype": "text/x-python",
   "name": "python",
   "nbconvert_exporter": "python",
   "pygments_lexer": "ipython3",
   "version": "3.6.4"
  }
 },
 "nbformat": 4,
 "nbformat_minor": 1
}
