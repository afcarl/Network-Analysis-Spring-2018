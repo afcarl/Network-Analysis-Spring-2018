{
 "cells": [
  {
   "cell_type": "code",
   "execution_count": null,
   "metadata": {},
   "outputs": [],
   "source": [
    "%matplotlib inline\n",
    "\n",
    "import pandas as pd\n",
    "import numpy as np\n",
    "\n",
    "import networkx as nx\n",
    "\n",
    "\n",
    "import matplotlib.pyplot as plt\n",
    "import seaborn as sns\n",
    "\n",
    "from datetime import datetime\n",
    "import sys\n",
    "sys.path.append('../../helper_libraries')\n",
    "\n",
    "__author__ = \"Shubhanshu Mishra\"\n",
    "__completion_time__ = datetime.now()\n",
    "\n",
    "print(\"Submission created by {} at {}\".format(__author__, __completion_time__))"
   ]
  },
  {
   "cell_type": "code",
   "execution_count": null,
   "metadata": {},
   "outputs": [],
   "source": [
    "from utilities import get_statuses, get_entity_networks_from_statuses, plot_network\n",
    "from utilities import get_connected_components, get_all_node_metrics, get_all_graph_metrics\n",
    "from utilities import run_all_simulations"
   ]
  },
  {
   "cell_type": "code",
   "execution_count": null,
   "metadata": {},
   "outputs": [],
   "source": [
    "sns.set_context(\"poster\")\n",
    "sns.set_style(\"ticks\")"
   ]
  },
  {
   "cell_type": "markdown",
   "metadata": {},
   "source": [
    "## Query twitter to create mention network\n",
    "\n",
    "a)\tRun the cell to collect tweets. Make sure to collect at least 500 tweets. What was your query term? Why did you choose this query term? How many tweets were collected by your command?\n",
    "\n",
    "Run the cell below. You will be prompted to enter a query term and also to enter the number of statuses.\n",
    "Report the query term and the number of statuses found by you. We suggest using a query term which is popular so that you are able to get enough tweets.\n",
    "\n",
    "**NOTE: If you are collecting more than 100 statuses, the cell will take some time to execute. Please be patient.**"
   ]
  },
  {
   "cell_type": "code",
   "execution_count": null,
   "metadata": {},
   "outputs": [],
   "source": [
    "query_term = input(\"What is your query term?\")\n",
    "num_statuses = int(input(\"Number of statuses to collect?\"))\n",
    "statuses = get_statuses(query_term, num_statuses)\n",
    "print(\"Collected {} tweets on {}\".format(len(statuses), query_term))"
   ]
  },
  {
   "cell_type": "markdown",
   "metadata": {},
   "source": [
    "## Create user mention network from tweets\n",
    "\n",
    "b)\tRun the node metrics cell. Use the instructions to find the top 10 nodes for each metric (by sorting the nodes by metrics). Report your findings? Explain why you observe the values for these nodes, based on your understanding of the query term. "
   ]
  },
  {
   "cell_type": "code",
   "execution_count": null,
   "metadata": {},
   "outputs": [],
   "source": [
    "entity_type=\"user_mentions\"\n",
    "df_entities, df_entity_pairs, G = get_entity_networks_from_statuses(statuses, entity_type)\n",
    "print(\"Network generated with {} nodes and {} edges.\".format(len(G.nodes), len(G.edges)))"
   ]
  },
  {
   "cell_type": "markdown",
   "metadata": {},
   "source": [
    "### Generate node metrics\n",
    "c)\tRun the graph metrics cell. Report the values observed in the graph metrics and explain their meaning in context of your network. Do you observe some null values? (Explain) \n",
    "\n",
    "\n",
    "Set the value of the variable `sort_column` to sort and show top 10 nodes by various node metrics. Possible values are `'degree', 'betweenness', 'closeness', 'eigenvector', 'clustering'`"
   ]
  },
  {
   "cell_type": "code",
   "execution_count": null,
   "metadata": {},
   "outputs": [],
   "source": [
    "df_node_metrics = get_all_node_metrics(G)\n",
    "sort_column = \"degree\"\n",
    "df_node_metrics.sort_values(sort_column, ascending=False).head(10)"
   ]
  },
  {
   "cell_type": "markdown",
   "metadata": {},
   "source": [
    "## Generate graph metrics"
   ]
  },
  {
   "cell_type": "code",
   "execution_count": null,
   "metadata": {},
   "outputs": [],
   "source": [
    "df_graph_metrics = get_all_graph_metrics(G)\n",
    "df_graph_metrics"
   ]
  },
  {
   "cell_type": "markdown",
   "metadata": {},
   "source": [
    "## Plot largest connected component network\n",
    "\n",
    "d)\tPlot the sub-network of the largest connected component and report your plot. What kind of structure you observe in this network."
   ]
  },
  {
   "cell_type": "code",
   "execution_count": null,
   "metadata": {},
   "outputs": [],
   "source": [
    "connected_components = get_connected_components(G)\n",
    "plot_network(connected_components[0], connected_components[0].degree(), factor=100)"
   ]
  },
  {
   "cell_type": "markdown",
   "metadata": {},
   "source": [
    "## Network simulation for comparison with network topology\n",
    "\n",
    "d)\tRun the network simulation and assess if the observed network is likely to be formed by: small world model, random graph model, preferential attachment model. Report the plot observed. Provide justification for each matching model and each rejected model. "
   ]
  },
  {
   "cell_type": "code",
   "execution_count": null,
   "metadata": {},
   "outputs": [],
   "source": [
    "run_all_simulations(G, iters=20)"
   ]
  },
  {
   "cell_type": "code",
   "execution_count": null,
   "metadata": {},
   "outputs": [],
   "source": []
  }
 ],
 "metadata": {
  "kernelspec": {
   "display_name": "Python 3",
   "language": "python",
   "name": "python3"
  },
  "language_info": {
   "codemirror_mode": {
    "name": "ipython",
    "version": 3
   },
   "file_extension": ".py",
   "mimetype": "text/x-python",
   "name": "python",
   "nbconvert_exporter": "python",
   "pygments_lexer": "ipython3",
   "version": "3.6.4"
  }
 },
 "nbformat": 4,
 "nbformat_minor": 2
}
