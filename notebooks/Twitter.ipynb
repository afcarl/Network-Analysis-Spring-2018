{
 "cells": [
  {
   "cell_type": "code",
   "execution_count": 1,
   "metadata": {},
   "outputs": [],
   "source": [
    "%matplotlib inline\n",
    "\n",
    "import tweepy as tw\n",
    "import json\n",
    "import pandas as pd\n",
    "import numpy as np\n",
    "\n",
    "from collections import defaultdict, Counter\n",
    "import os\n",
    "from IPython.display import clear_output\n",
    "\n",
    "import networkx as nx\n",
    "\n",
    "\n",
    "import matplotlib.pyplot as plt\n",
    "import seaborn as sns\n",
    "\n",
    "from io import StringIO\n",
    "from pydotplus import graph_from_dot_data\n",
    "import matplotlib.image as mpimg"
   ]
  },
  {
   "cell_type": "code",
   "execution_count": 2,
   "metadata": {},
   "outputs": [],
   "source": [
    "sns.set_context(\"poster\")\n",
    "sns.set_style(\"ticks\")"
   ]
  },
  {
   "cell_type": "code",
   "execution_count": 3,
   "metadata": {},
   "outputs": [],
   "source": [
    "DATA_DIR=\"../data\"\n",
    "TWITTER_CONFIG_FILE=os.path.join(DATA_DIR, \"twitter_config.json\")"
   ]
  },
  {
   "cell_type": "markdown",
   "metadata": {},
   "source": [
    "## Twitter Access Tokens\n",
    "\n",
    "If you are proceeding further then you are expected to have created your Twitter application by following the steps from [Twitter App Creation](https://dev.twitter.com/oauth/overview/application-owner-access-tokens) page. \n",
    "\n",
    "Make sure you have the following details of your Twitter application readily available:\n",
    "* 'access_token'\n",
    "* 'access_token_secret'\n",
    "* 'consumer_key'\n",
    "* 'consumer_secret'\n",
    "\n",
    "Please enter the value of each of the items as shown in your Twitter application, when prompted by the code below.\n"
   ]
  },
  {
   "cell_type": "code",
   "execution_count": 4,
   "metadata": {},
   "outputs": [],
   "source": [
    "if not os.path.isfile(TWITTER_CONFIG_FILE):\n",
    "    with open(os.path.join(DATA_DIR, \"twitter_config.sample.json\")) as fp:\n",
    "        creds = json.load(fp)\n",
    "        for k in sorted(creds.keys()):\n",
    "            v = input(\"Enter %s:\\t\" % k)\n",
    "            creds[k] = v\n",
    "    print(creds)\n",
    "    with open(TWITTER_CONFIG_FILE, \"w+\") as fp:\n",
    "        json.dump(creds, fp, indent=4, sort_keys=True)\n",
    "    clear_output()\n",
    "    print(\"Printed credentials to file %s\" % TWITTER_CONFIG_FILE)"
   ]
  },
  {
   "cell_type": "code",
   "execution_count": 5,
   "metadata": {},
   "outputs": [
    {
     "name": "stdout",
     "output_type": "stream",
     "text": [
      "dict_keys(['consumer_key', 'consumer_secret', 'access_token', 'access_token_secret'])\n"
     ]
    }
   ],
   "source": [
    "with open(TWITTER_CONFIG_FILE) as fp:\n",
    "    creds = json.load(fp)\n",
    "print(creds.keys())"
   ]
  },
  {
   "cell_type": "code",
   "execution_count": 6,
   "metadata": {},
   "outputs": [
    {
     "name": "stdout",
     "output_type": "stream",
     "text": [
      "Tweepy ready for search\n"
     ]
    }
   ],
   "source": [
    "auth = tw.OAuthHandler(creds[\"consumer_key\"], creds[\"consumer_secret\"])\n",
    "auth.set_access_token(creds[\"access_token\"], creds[\"access_token_secret\"])\n",
    "api = tw.API(auth, wait_on_rate_limit=True, wait_on_rate_limit_notify=True,\n",
    "             retry_count=5, retry_delay=100, \n",
    "            )\n",
    "\n",
    "print(\"Tweepy ready for search\")"
   ]
  },
  {
   "cell_type": "code",
   "execution_count": 7,
   "metadata": {},
   "outputs": [
    {
     "name": "stdout",
     "output_type": "stream",
     "text": [
      "What is your search term?winter olympics\n"
     ]
    }
   ],
   "source": [
    "statuses = api.search(q=input(\"What is your search term?\"), count=100)"
   ]
  },
  {
   "cell_type": "code",
   "execution_count": 8,
   "metadata": {},
   "outputs": [
    {
     "data": {
      "text/plain": [
       "100"
      ]
     },
     "execution_count": 8,
     "metadata": {},
     "output_type": "execute_result"
    }
   ],
   "source": [
    "len(statuses)"
   ]
  },
  {
   "cell_type": "code",
   "execution_count": 9,
   "metadata": {},
   "outputs": [
    {
     "name": "stdout",
     "output_type": "stream",
     "text": [
      "RT @SportsCenter: SHAUN WHITE TAKES GOLD!\n",
      "\n",
      "His medal earns USA its 100th Winter Olympics gold medal in history. https://t.co/QMR2nOiNl4\n",
      "RT @NBCOlympics: SHAUN WHITE IS NOT HUMAN. #BestOfUS #WinterOlympics https://t.co/r5PfUbeROr https://t.co/6MmQiSZGRh\n",
      "RT @SportsCenter: SHAUN WHITE TAKES GOLD!\n",
      "\n",
      "His medal earns USA its 100th Winter Olympics gold medal in history. https://t.co/QMR2nOiNl4\n",
      "RT @NBCOlympics: SHAUN WHITE IS NOT HUMAN. #BestOfUS #WinterOlympics https://t.co/r5PfUbeROr https://t.co/6MmQiSZGRh\n",
      "RT @SportsCenter: SHAUN WHITE TAKES GOLD!\n",
      "\n",
      "His medal earns USA its 100th Winter Olympics gold medal in history. https://t.co/QMR2nOiNl4\n",
      "RT @SportsCenter: SHAUN WHITE TAKES GOLD!\n",
      "\n",
      "His medal earns USA its 100th Winter Olympics gold medal in history. https://t.co/QMR2nOiNl4\n",
      "RT @NBCOlympics: SHAUN WHITE IS NOT HUMAN. #BestOfUS #WinterOlympics https://t.co/r5PfUbeROr https://t.co/6MmQiSZGRh\n",
      "RT @cnnbrk: Team USA's Shaun White wins the gold medal despite falling in the men's snowboard halfpipe at the 2018 Winter Olympics https://…\n",
      "RT @7DX_ARVR: Intel has recently been partnered with the 2018 Winter Olympics as a VR provider. This allows athletes to familiarise themsel…\n",
      "RT @SportsCenter: SHAUN WHITE TAKES GOLD!\n",
      "\n",
      "His medal earns USA its 100th Winter Olympics gold medal in history. https://t.co/QMR2nOiNl4\n",
      "RT @NBCOlympics: SHAUN WHITE IS NOT HUMAN. #BestOfUS #WinterOlympics https://t.co/r5PfUbeROr https://t.co/6MmQiSZGRh\n",
      "RT @cnnbrk: Team USA's Shaun White wins the gold medal despite falling in the men's snowboard halfpipe at the 2018 Winter Olympics https://…\n",
      "RT @NBCNews: BREAKING: Shaun White wins third Olympic gold medal in men's snowboard halfpipe and earns Team USA its 100th all-time Winter G…\n",
      "RT @SportsCenter: SHAUN WHITE TAKES GOLD!\n",
      "\n",
      "His medal earns USA its 100th Winter Olympics gold medal in history. https://t.co/QMR2nOiNl4\n",
      "Also Michael Phelps is so Olympic that his second child was born at the same time as the Winter Olympics lol\n",
      "RT @SportsCenter: SHAUN WHITE TAKES GOLD!\n",
      "\n",
      "His medal earns USA its 100th Winter Olympics gold medal in history. https://t.co/QMR2nOiNl4\n",
      "RT @SportsCenter: SHAUN WHITE TAKES GOLD!\n",
      "\n",
      "His medal earns USA its 100th Winter Olympics gold medal in history. https://t.co/QMR2nOiNl4\n",
      "RT @NBCNews: BREAKING: Shaun White wins third Olympic gold medal in men's snowboard halfpipe and earns Team USA its 100th all-time Winter G…\n",
      "RT @NBCOlympics: SHAUN WHITE IS NOT HUMAN. #BestOfUS #WinterOlympics https://t.co/r5PfUbeROr https://t.co/6MmQiSZGRh\n",
      "RT @taeyongpictures: 180212 NCT 127 at Pyeongchang Winter Olympics Headliner Show Rehearsal - cr. dreamlike boy https://t.co/VIoo45q5nw\n",
      "RT @SportsCenter: SHAUN WHITE TAKES GOLD!\n",
      "\n",
      "His medal earns USA its 100th Winter Olympics gold medal in history. https://t.co/QMR2nOiNl4\n",
      "RT @NBCOlympics: SHAUN WHITE IS NOT HUMAN. #BestOfUS #WinterOlympics https://t.co/r5PfUbeROr https://t.co/6MmQiSZGRh\n",
      "RT @NBCOlympics: SHAUN WHITE IS NOT HUMAN. #BestOfUS #WinterOlympics https://t.co/r5PfUbeROr https://t.co/6MmQiSZGRh\n",
      "@Harriet_Vane_ https://t.co/HaipSwmGMl\n",
      "Congratulations, TOF survivor @shaunwhite for winning the gold! https://t.co/PVgyC3lHOX\n",
      "RT @xcvbnm67890: Time誌の元編集長でWSJでも日本・韓国を担当したNorman Pearlstine氏がFortune誌に素晴らしい寄稿　\"Joshua Cooper Ramo’s S Korea Comments Contain Important Pie…\n",
      "Shaun White Wins Gold for Men's Halfpipe at Winter Olympics!\n",
      "RT @SportsCenter: SHAUN WHITE TAKES GOLD!\n",
      "\n",
      "His medal earns USA its 100th Winter Olympics gold medal in history. https://t.co/QMR2nOiNl4\n",
      "RT @SportsCenter: SHAUN WHITE TAKES GOLD!\n",
      "\n",
      "His medal earns USA its 100th Winter Olympics gold medal in history. https://t.co/QMR2nOiNl4\n",
      "RT @taeyongpictures: 180212 NCT 127 at Pyeongchang Winter Olympics Headliner Show Rehearsal - cr. all about taeyong https://t.co/9vNHQsYS67\n",
      "RT @CNN: Meet Dustin Woods, a US coach who's inspiring China's short track speed skaters in Pyeongchang https://t.co/n7e44PaRXN #PyeongChan…\n",
      "RT @NBCOlympics: SHAUN WHITE IS NOT HUMAN. #BestOfUS #WinterOlympics https://t.co/r5PfUbeROr https://t.co/6MmQiSZGRh\n",
      "🚨America wins its 4th. Gold Medal of the Winter Olympics Shaun White 31, of San Diego, Calf. Got the \n",
      "Gold for Men’… https://t.co/wnCkVJxsYy\n",
      "RT @NBCOlympics: SHAUN WHITE IS NOT HUMAN. #BestOfUS #WinterOlympics https://t.co/r5PfUbeROr https://t.co/6MmQiSZGRh\n",
      "RT @SportsCenter: SHAUN WHITE TAKES GOLD!\n",
      "\n",
      "His medal earns USA its 100th Winter Olympics gold medal in history. https://t.co/QMR2nOiNl4\n",
      "RT @damnjavi: u.s national team at the winter olympics https://t.co/geYsUjvitS\n",
      "RT @damnjavi: u.s national team at the winter olympics https://t.co/geYsUjvitS\n",
      "RT @SportsCenter: SHAUN WHITE TAKES GOLD!\n",
      "\n",
      "His medal earns USA its 100th Winter Olympics gold medal in history. https://t.co/QMR2nOiNl4\n",
      "RT @damnjavi: u.s national team at the winter olympics https://t.co/geYsUjvitS\n",
      "RT @SportsCenter: SHAUN WHITE TAKES GOLD!\n",
      "\n",
      "His medal earns USA its 100th Winter Olympics gold medal in history. https://t.co/QMR2nOiNl4\n",
      "RT @SportsCenter: SHAUN WHITE TAKES GOLD!\n",
      "\n",
      "His medal earns USA its 100th Winter Olympics gold medal in history. https://t.co/QMR2nOiNl4\n",
      "RT @taeyongpictures: 180212 NCT 127 at Pyeongchang Winter Olympics Headliner Show Rehearsal - cr. deflow and all about taeyong https://t.co…\n",
      "RT @vegfestcgy: YAY! Vegan for the win! #Vegan power! https://t.co/NuniV8IR7S\n",
      "RT @SportsCenter: SHAUN WHITE TAKES GOLD!\n",
      "\n",
      "His medal earns USA its 100th Winter Olympics gold medal in history. https://t.co/QMR2nOiNl4\n",
      "I liked a @YouTube video https://t.co/nqLNsyP9rC The Sad Truth Behind The North Korean Cheerleaders At The Winter Olympics\n",
      "The soundtrack of the Winter Olympics is cowbell. So. Much. Cowbell. https://t.co/hpGqrSgRZl : The soundtrack of the Winter Olympics is…\n",
      "RT @TIME: No, 'OAR' isn't a new country. Here's the story behind the 'OAR' Winter Olympics team https://t.co/gdaYxKRI5B\n",
      "RT @SportsCenter: SHAUN WHITE TAKES GOLD!\n",
      "\n",
      "His medal earns USA its 100th Winter Olympics gold medal in history. https://t.co/QMR2nOiNl4\n",
      "RT @NBCOlympics: SHAUN WHITE IS NOT HUMAN. #BestOfUS #WinterOlympics https://t.co/r5PfUbeROr https://t.co/6MmQiSZGRh\n",
      "RT @SportsCenter: SHAUN WHITE TAKES GOLD!\n",
      "\n",
      "His medal earns USA its 100th Winter Olympics gold medal in history. https://t.co/QMR2nOiNl4\n",
      "RT @kare11: .@shaunwhite wins #GoldMedal in men's halfpipe at #WinterOlympics\n",
      "https://t.co/ai8XBMiiwY\n",
      "#PyeongChang2018 https://t.co/iuaVDI6…\n",
      "RT @NBCDFW: Shaun White is on the medal stand accepting his 3rd Olympic gold medal🥇! Watch Live --&gt; https://t.co/9hlSvWxov3 https://t.co/b2…\n",
      "RT @SportsCenter: SHAUN WHITE TAKES GOLD!\n",
      "\n",
      "His medal earns USA its 100th Winter Olympics gold medal in history. https://t.co/QMR2nOiNl4\n",
      "RT @NBCNews: BREAKING: Shaun White wins third Olympic gold medal in men's snowboard halfpipe and earns Team USA its 100th all-time Winter G…\n",
      "RT @NBCOlympics: SHAUN WHITE IS NOT HUMAN. #BestOfUS #WinterOlympics https://t.co/r5PfUbeROr https://t.co/6MmQiSZGRh\n",
      "RT @NBCOlympics: SHAUN WHITE IS NOT HUMAN. #BestOfUS #WinterOlympics https://t.co/r5PfUbeROr https://t.co/6MmQiSZGRh\n",
      "RT @ComplexSports: GOLD. 🏅\n",
      "\n",
      "Congrats to @ShaunWhite on winning his third Olympic gold medal and the 100th ever gold medal in the Winter Oly…\n",
      "RT @CBSNews: JUST IN: United States' Shaun White wins gold in the men's halfpipe, earning his third career gold medal #olympics https://t.c…\n",
      "RT @NBCOlympics: SHAUN WHITE IS NOT HUMAN. #BestOfUS #WinterOlympics https://t.co/r5PfUbeROr https://t.co/6MmQiSZGRh\n",
      "RT @ComplexSports: GOLD. 🏅\n",
      "\n",
      "Congrats to @ShaunWhite on winning his third Olympic gold medal and the 100th ever gold medal in the Winter Oly…\n",
      "RT @nlucken12: Colorado sent 31 athletes to the #PyeongChang2018 Winter Olympics this year, that’s more than any other state. Try telling m…\n",
      "RT @damnjavi: u.s national team at the winter olympics https://t.co/geYsUjvitS\n",
      "RT @NBCOlympics: SHAUN WHITE IS NOT HUMAN. #BestOfUS #WinterOlympics https://t.co/r5PfUbeROr https://t.co/6MmQiSZGRh\n",
      "RT @ESPNStatsInfo: White. Gold. \n",
      "\n",
      "Shaun White's final run earns him a gold medal in the men's halfpipe.\n",
      "\n",
      "It's the United States' 100th gold…\n",
      "American Shaun White picked up the gold medal in the men's half-pipe competition. He also won the event in Turin in… https://t.co/qyXRAPNWvN\n",
      "RT @ocregister: Shaun White wins Team USA’s 100th gold medal in Winter Olympic history and his third career gold medal in the men’s snowboa…\n",
      "RT @NBCOlympics: SHAUN WHITE IS NOT HUMAN. #BestOfUS #WinterOlympics https://t.co/r5PfUbeROr https://t.co/6MmQiSZGRh\n",
      "RT @SportsCenter: SHAUN WHITE TAKES GOLD!\n",
      "\n",
      "His medal earns USA its 100th Winter Olympics gold medal in history. https://t.co/QMR2nOiNl4\n",
      "RT @damnjavi: u.s national team at the winter olympics https://t.co/geYsUjvitS\n",
      "RT @NBCNews: BREAKING: Shaun White wins third Olympic gold medal in men's snowboard halfpipe and earns Team USA its 100th all-time Winter G…\n",
      "RT @SportsCenter: SHAUN WHITE TAKES GOLD!\n",
      "\n",
      "His medal earns USA its 100th Winter Olympics gold medal in history. https://t.co/QMR2nOiNl4\n",
      "RT @NBCNews: BREAKING: Shaun White wins third Olympic gold medal in men's snowboard halfpipe and earns Team USA its 100th all-time Winter G…\n",
      "RT @NBCOlympics: SHAUN WHITE IS NOT HUMAN. #BestOfUS #WinterOlympics https://t.co/r5PfUbeROr https://t.co/6MmQiSZGRh\n",
      "RT @NBCOlympics: SHAUN WHITE IS NOT HUMAN. #BestOfUS #WinterOlympics https://t.co/r5PfUbeROr https://t.co/6MmQiSZGRh\n",
      "RT @SportsCenter: SHAUN WHITE TAKES GOLD!\n",
      "\n",
      "His medal earns USA its 100th Winter Olympics gold medal in history. https://t.co/QMR2nOiNl4\n",
      "RT @NBCOlympics: SHAUN WHITE IS NOT HUMAN. #BestOfUS #WinterOlympics https://t.co/r5PfUbeROr https://t.co/6MmQiSZGRh\n",
      "Don't tug on Superman's cape.\n",
      "\n",
      "Shaun White wins US its 100th Winter Olympics gold with epic halfpipe performance https://t.co/hFpcF2FBlw.\n",
      "RT @SportsCenter: SHAUN WHITE TAKES GOLD!\n",
      "\n",
      "His medal earns USA its 100th Winter Olympics gold medal in history. https://t.co/QMR2nOiNl4\n",
      "RT @SportsCenter: SHAUN WHITE TAKES GOLD!\n",
      "\n",
      "His medal earns USA its 100th Winter Olympics gold medal in history. https://t.co/QMR2nOiNl4\n",
      "RT @SportsCenter: SHAUN WHITE TAKES GOLD!\n",
      "\n",
      "His medal earns USA its 100th Winter Olympics gold medal in history. https://t.co/QMR2nOiNl4\n",
      "RT @NBCNews: BREAKING: Shaun White wins third Olympic gold medal in men's snowboard halfpipe and earns Team USA its 100th all-time Winter G…\n",
      "RT @SportsCenter: SHAUN WHITE TAKES GOLD!\n",
      "\n",
      "His medal earns USA its 100th Winter Olympics gold medal in history. https://t.co/QMR2nOiNl4\n",
      "RT @NBCOlympics: SHAUN WHITE IS NOT HUMAN. #BestOfUS #WinterOlympics https://t.co/r5PfUbeROr https://t.co/6MmQiSZGRh\n",
      "RT @SportsCenter: SHAUN WHITE TAKES GOLD!\n",
      "\n",
      "His medal earns USA its 100th Winter Olympics gold medal in history. https://t.co/QMR2nOiNl4\n",
      "RT @SportsCenter: SHAUN WHITE TAKES GOLD!\n",
      "\n",
      "His medal earns USA its 100th Winter Olympics gold medal in history. https://t.co/QMR2nOiNl4\n",
      "RT @cnnbrk: Team USA's Shaun White wins the gold medal despite falling in the men's snowboard halfpipe at the 2018 Winter Olympics https://…\n",
      "RT @SportsCenter: SHAUN WHITE TAKES GOLD!\n",
      "\n",
      "His medal earns USA its 100th Winter Olympics gold medal in history. https://t.co/QMR2nOiNl4\n",
      "little mix’s salute is playing on the winter olympics omg\n",
      "RT @NBCOlympics: SHAUN WHITE IS NOT HUMAN. #BestOfUS #WinterOlympics https://t.co/r5PfUbeROr https://t.co/6MmQiSZGRh\n",
      "RT @NBCOlympics: SHAUN WHITE IS NOT HUMAN. #BestOfUS #WinterOlympics https://t.co/r5PfUbeROr https://t.co/6MmQiSZGRh\n",
      "RT @NBCOlympics: SHAUN WHITE IS NOT HUMAN. #BestOfUS #WinterOlympics https://t.co/r5PfUbeROr https://t.co/6MmQiSZGRh\n",
      "RT @MEL2AUSA: Shaun White wins US its 100th Winter Olympics gold with epic halfpipe performance!!! #Olympics https://t.co/q5E25PQi4i\n",
      "Shaun White bawling with his family after winning not just a gold medal but the 100th gold medal for the USA in Win… https://t.co/vSlUjK2H8J\n",
      "RT @ESPNStatsInfo: White. Gold. \n",
      "\n",
      "Shaun White's final run earns him a gold medal in the men's halfpipe.\n",
      "\n",
      "It's the United States' 100th gold…\n",
      "RT @NBCOlympics: SHAUN WHITE IS NOT HUMAN. #BestOfUS #WinterOlympics https://t.co/r5PfUbeROr https://t.co/6MmQiSZGRh\n",
      "RT @NBCOlympics: SHAUN WHITE IS NOT HUMAN. #BestOfUS #WinterOlympics https://t.co/r5PfUbeROr https://t.co/6MmQiSZGRh\n",
      "RT @NBCOlympics: Shaun. White. #BestOfUS #WinterOlympics https://t.co/D65Nuoyydu https://t.co/GC1pefDfGX\n",
      "RT @smh: Breaking: Meet our newest bronzed Aussie https://t.co/0h57xPdAq1\n",
      "RT @MEL2AUSA: Shaun White wins US its 100th Winter Olympics gold with epic halfpipe performance!!! #Olympics https://t.co/q5E25PQi4i\n",
      "RT @MEL2AUSA: Shaun White wins US its 100th Winter Olympics gold with epic halfpipe performance!!! #Olympics https://t.co/q5E25PQi4i\n"
     ]
    }
   ],
   "source": [
    "for status in statuses:\n",
    "    print(status.text)"
   ]
  },
  {
   "cell_type": "code",
   "execution_count": 10,
   "metadata": {},
   "outputs": [],
   "source": [
    "def dict2df(data):\n",
    "    return pd.DataFrame(\n",
    "        list(data.items()),\n",
    "        columns=[\"item\", \"counts\"]\n",
    "    ).sort_values(\"counts\", ascending=False)\n",
    "\n",
    "def get_entities(statuses):\n",
    "    hashtags = defaultdict(int)\n",
    "    mentions = defaultdict(int)\n",
    "    keys = (\"hashtags\", \"user_mentions\")\n",
    "    for s in statuses:\n",
    "        entities = s.entities\n",
    "        if \"hashtags\" in entities:\n",
    "            e = map(lambda x: x[\"text\"], entities[\"hashtags\"])\n",
    "            for t in e:\n",
    "                hashtags[t] += 1\n",
    "        if \"user_mentions\" in entities:\n",
    "            e = map(lambda x: x[\"screen_name\"], entities[\"user_mentions\"])\n",
    "            for t in e:\n",
    "                mentions[t] += 1\n",
    "    return dict2df(hashtags), dict2df(mentions)"
   ]
  },
  {
   "cell_type": "code",
   "execution_count": 11,
   "metadata": {},
   "outputs": [],
   "source": [
    "hashtags, mentions = get_entities(statuses)"
   ]
  },
  {
   "cell_type": "code",
   "execution_count": 12,
   "metadata": {},
   "outputs": [
    {
     "data": {
      "text/plain": [
       "100"
      ]
     },
     "execution_count": 12,
     "metadata": {},
     "output_type": "execute_result"
    }
   ],
   "source": [
    "len(statuses)"
   ]
  },
  {
   "cell_type": "code",
   "execution_count": 13,
   "metadata": {},
   "outputs": [
    {
     "data": {
      "text/html": [
       "<div>\n",
       "<style scoped>\n",
       "    .dataframe tbody tr th:only-of-type {\n",
       "        vertical-align: middle;\n",
       "    }\n",
       "\n",
       "    .dataframe tbody tr th {\n",
       "        vertical-align: top;\n",
       "    }\n",
       "\n",
       "    .dataframe thead th {\n",
       "        text-align: right;\n",
       "    }\n",
       "</style>\n",
       "<table border=\"1\" class=\"dataframe\">\n",
       "  <thead>\n",
       "    <tr style=\"text-align: right;\">\n",
       "      <th></th>\n",
       "      <th>item</th>\n",
       "      <th>counts</th>\n",
       "    </tr>\n",
       "  </thead>\n",
       "  <tbody>\n",
       "    <tr>\n",
       "      <th>1</th>\n",
       "      <td>WinterOlympics</td>\n",
       "      <td>26</td>\n",
       "    </tr>\n",
       "    <tr>\n",
       "      <th>0</th>\n",
       "      <td>BestOfUS</td>\n",
       "      <td>25</td>\n",
       "    </tr>\n",
       "    <tr>\n",
       "      <th>6</th>\n",
       "      <td>Olympics</td>\n",
       "      <td>3</td>\n",
       "    </tr>\n",
       "    <tr>\n",
       "      <th>4</th>\n",
       "      <td>PyeongChang2018</td>\n",
       "      <td>2</td>\n",
       "    </tr>\n",
       "    <tr>\n",
       "      <th>2</th>\n",
       "      <td>Vegan</td>\n",
       "      <td>1</td>\n",
       "    </tr>\n",
       "    <tr>\n",
       "      <th>3</th>\n",
       "      <td>GoldMedal</td>\n",
       "      <td>1</td>\n",
       "    </tr>\n",
       "    <tr>\n",
       "      <th>5</th>\n",
       "      <td>olympics</td>\n",
       "      <td>1</td>\n",
       "    </tr>\n",
       "  </tbody>\n",
       "</table>\n",
       "</div>"
      ],
      "text/plain": [
       "              item  counts\n",
       "1   WinterOlympics      26\n",
       "0         BestOfUS      25\n",
       "6         Olympics       3\n",
       "4  PyeongChang2018       2\n",
       "2            Vegan       1\n",
       "3        GoldMedal       1\n",
       "5         olympics       1"
      ]
     },
     "execution_count": 13,
     "metadata": {},
     "output_type": "execute_result"
    }
   ],
   "source": [
    "hashtags"
   ]
  },
  {
   "cell_type": "code",
   "execution_count": 14,
   "metadata": {},
   "outputs": [
    {
     "data": {
      "text/html": [
       "<div>\n",
       "<style scoped>\n",
       "    .dataframe tbody tr th:only-of-type {\n",
       "        vertical-align: middle;\n",
       "    }\n",
       "\n",
       "    .dataframe tbody tr th {\n",
       "        vertical-align: top;\n",
       "    }\n",
       "\n",
       "    .dataframe thead th {\n",
       "        text-align: right;\n",
       "    }\n",
       "</style>\n",
       "<table border=\"1\" class=\"dataframe\">\n",
       "  <thead>\n",
       "    <tr style=\"text-align: right;\">\n",
       "      <th></th>\n",
       "      <th>item</th>\n",
       "      <th>counts</th>\n",
       "    </tr>\n",
       "  </thead>\n",
       "  <tbody>\n",
       "    <tr>\n",
       "      <th>0</th>\n",
       "      <td>SportsCenter</td>\n",
       "      <td>29</td>\n",
       "    </tr>\n",
       "    <tr>\n",
       "      <th>1</th>\n",
       "      <td>NBCOlympics</td>\n",
       "      <td>25</td>\n",
       "    </tr>\n",
       "    <tr>\n",
       "      <th>4</th>\n",
       "      <td>NBCNews</td>\n",
       "      <td>6</td>\n",
       "    </tr>\n",
       "    <tr>\n",
       "      <th>10</th>\n",
       "      <td>damnjavi</td>\n",
       "      <td>5</td>\n",
       "    </tr>\n",
       "    <tr>\n",
       "      <th>7</th>\n",
       "      <td>shaunwhite</td>\n",
       "      <td>4</td>\n",
       "    </tr>\n",
       "    <tr>\n",
       "      <th>2</th>\n",
       "      <td>cnnbrk</td>\n",
       "      <td>3</td>\n",
       "    </tr>\n",
       "    <tr>\n",
       "      <th>21</th>\n",
       "      <td>MEL2AUSA</td>\n",
       "      <td>3</td>\n",
       "    </tr>\n",
       "    <tr>\n",
       "      <th>5</th>\n",
       "      <td>taeyongpictures</td>\n",
       "      <td>3</td>\n",
       "    </tr>\n",
       "    <tr>\n",
       "      <th>19</th>\n",
       "      <td>ESPNStatsInfo</td>\n",
       "      <td>2</td>\n",
       "    </tr>\n",
       "    <tr>\n",
       "      <th>16</th>\n",
       "      <td>ComplexSports</td>\n",
       "      <td>2</td>\n",
       "    </tr>\n",
       "    <tr>\n",
       "      <th>15</th>\n",
       "      <td>NBCDFW</td>\n",
       "      <td>1</td>\n",
       "    </tr>\n",
       "    <tr>\n",
       "      <th>20</th>\n",
       "      <td>ocregister</td>\n",
       "      <td>1</td>\n",
       "    </tr>\n",
       "    <tr>\n",
       "      <th>18</th>\n",
       "      <td>nlucken12</td>\n",
       "      <td>1</td>\n",
       "    </tr>\n",
       "    <tr>\n",
       "      <th>17</th>\n",
       "      <td>CBSNews</td>\n",
       "      <td>1</td>\n",
       "    </tr>\n",
       "    <tr>\n",
       "      <th>11</th>\n",
       "      <td>vegfestcgy</td>\n",
       "      <td>1</td>\n",
       "    </tr>\n",
       "    <tr>\n",
       "      <th>14</th>\n",
       "      <td>kare11</td>\n",
       "      <td>1</td>\n",
       "    </tr>\n",
       "    <tr>\n",
       "      <th>13</th>\n",
       "      <td>TIME</td>\n",
       "      <td>1</td>\n",
       "    </tr>\n",
       "    <tr>\n",
       "      <th>12</th>\n",
       "      <td>YouTube</td>\n",
       "      <td>1</td>\n",
       "    </tr>\n",
       "    <tr>\n",
       "      <th>9</th>\n",
       "      <td>CNN</td>\n",
       "      <td>1</td>\n",
       "    </tr>\n",
       "    <tr>\n",
       "      <th>8</th>\n",
       "      <td>xcvbnm67890</td>\n",
       "      <td>1</td>\n",
       "    </tr>\n",
       "    <tr>\n",
       "      <th>6</th>\n",
       "      <td>Harriet_Vane_</td>\n",
       "      <td>1</td>\n",
       "    </tr>\n",
       "    <tr>\n",
       "      <th>3</th>\n",
       "      <td>7DX_ARVR</td>\n",
       "      <td>1</td>\n",
       "    </tr>\n",
       "    <tr>\n",
       "      <th>22</th>\n",
       "      <td>smh</td>\n",
       "      <td>1</td>\n",
       "    </tr>\n",
       "  </tbody>\n",
       "</table>\n",
       "</div>"
      ],
      "text/plain": [
       "               item  counts\n",
       "0      SportsCenter      29\n",
       "1       NBCOlympics      25\n",
       "4           NBCNews       6\n",
       "10         damnjavi       5\n",
       "7        shaunwhite       4\n",
       "2            cnnbrk       3\n",
       "21         MEL2AUSA       3\n",
       "5   taeyongpictures       3\n",
       "19    ESPNStatsInfo       2\n",
       "16    ComplexSports       2\n",
       "15           NBCDFW       1\n",
       "20       ocregister       1\n",
       "18        nlucken12       1\n",
       "17          CBSNews       1\n",
       "11       vegfestcgy       1\n",
       "14           kare11       1\n",
       "13             TIME       1\n",
       "12          YouTube       1\n",
       "9               CNN       1\n",
       "8       xcvbnm67890       1\n",
       "6     Harriet_Vane_       1\n",
       "3          7DX_ARVR       1\n",
       "22              smh       1"
      ]
     },
     "execution_count": 14,
     "metadata": {},
     "output_type": "execute_result"
    }
   ],
   "source": [
    "mentions"
   ]
  },
  {
   "cell_type": "markdown",
   "metadata": {},
   "source": [
    "## Current user's information"
   ]
  },
  {
   "cell_type": "code",
   "execution_count": 15,
   "metadata": {},
   "outputs": [
    {
     "data": {
      "text/plain": [
       "User(_api=<tweepy.api.API object at 0x000001CDAA5D9160>, _json={'id': 16621479, 'id_str': '16621479', 'name': 'Shubhanshu Mishra', 'screen_name': 'TheShubhanshu', 'location': 'Urbana, Illinois, USA', 'profile_location': None, 'description': 'PhD Student at @GSLIS @UIUC using data mining and ML. All my tweets can be used for data mining. I created ReadLater for Chrome https://t.co/rDKLiPfswZ', 'url': 'https://t.co/WfIGt6oMtT', 'entities': {'url': {'urls': [{'url': 'https://t.co/WfIGt6oMtT', 'expanded_url': 'http://shubhanshu.com', 'display_url': 'shubhanshu.com', 'indices': [0, 23]}]}, 'description': {'urls': [{'url': 'https://t.co/rDKLiPfswZ', 'expanded_url': 'http://goo.gl/AxnrBG', 'display_url': 'goo.gl/AxnrBG', 'indices': [128, 151]}]}}, 'protected': False, 'followers_count': 727, 'friends_count': 872, 'listed_count': 76, 'created_at': 'Mon Oct 06 22:27:27 +0000 2008', 'favourites_count': 260, 'utc_offset': -21600, 'time_zone': 'Central America', 'geo_enabled': True, 'verified': False, 'statuses_count': 4242, 'lang': 'en', 'status': {'created_at': 'Fri Feb 09 18:21:25 +0000 2018', 'id': 962028679982301184, 'id_str': '962028679982301184', 'text': '@MSFTResearch @MSRMontreal Hi, do you have summer internship positions open? I am a final year PhD student working… https://t.co/YtofOdEXQO', 'truncated': True, 'entities': {'hashtags': [], 'symbols': [], 'user_mentions': [{'screen_name': 'MSFTResearch', 'name': 'Microsoft Research', 'id': 21457289, 'id_str': '21457289', 'indices': [0, 13]}, {'screen_name': 'MSRMontreal', 'name': 'Microsoft Research Montreal', 'id': 340567890, 'id_str': '340567890', 'indices': [14, 26]}], 'urls': [{'url': 'https://t.co/YtofOdEXQO', 'expanded_url': 'https://twitter.com/i/web/status/962028679982301184', 'display_url': 'twitter.com/i/web/status/9…', 'indices': [116, 139]}]}, 'source': '<a href=\"http://twitter.com\" rel=\"nofollow\">Twitter Web Client</a>', 'in_reply_to_status_id': 961764337709928451, 'in_reply_to_status_id_str': '961764337709928451', 'in_reply_to_user_id': 21457289, 'in_reply_to_user_id_str': '21457289', 'in_reply_to_screen_name': 'MSFTResearch', 'geo': None, 'coordinates': None, 'place': None, 'contributors': None, 'is_quote_status': False, 'retweet_count': 0, 'favorite_count': 0, 'favorited': False, 'retweeted': False, 'lang': 'en'}, 'contributors_enabled': False, 'is_translator': False, 'is_translation_enabled': False, 'profile_background_color': '030103', 'profile_background_image_url': 'http://abs.twimg.com/images/themes/theme18/bg.gif', 'profile_background_image_url_https': 'https://abs.twimg.com/images/themes/theme18/bg.gif', 'profile_background_tile': False, 'profile_image_url': 'http://pbs.twimg.com/profile_images/482000571210031104/CdTuSt_7_normal.jpeg', 'profile_image_url_https': 'https://pbs.twimg.com/profile_images/482000571210031104/CdTuSt_7_normal.jpeg', 'profile_banner_url': 'https://pbs.twimg.com/profile_banners/16621479/1404152030', 'profile_link_color': '947974', 'profile_sidebar_border_color': 'ADF1FC', 'profile_sidebar_fill_color': '000000', 'profile_text_color': 'FA8459', 'profile_use_background_image': True, 'has_extended_profile': True, 'default_profile': False, 'default_profile_image': False, 'following': False, 'follow_request_sent': False, 'notifications': False, 'translator_type': 'none', 'suspended': False, 'needs_phone_verification': False}, id=16621479, id_str='16621479', name='Shubhanshu Mishra', screen_name='TheShubhanshu', location='Urbana, Illinois, USA', profile_location=None, description='PhD Student at @GSLIS @UIUC using data mining and ML. All my tweets can be used for data mining. I created ReadLater for Chrome https://t.co/rDKLiPfswZ', url='https://t.co/WfIGt6oMtT', entities={'url': {'urls': [{'url': 'https://t.co/WfIGt6oMtT', 'expanded_url': 'http://shubhanshu.com', 'display_url': 'shubhanshu.com', 'indices': [0, 23]}]}, 'description': {'urls': [{'url': 'https://t.co/rDKLiPfswZ', 'expanded_url': 'http://goo.gl/AxnrBG', 'display_url': 'goo.gl/AxnrBG', 'indices': [128, 151]}]}}, protected=False, followers_count=727, friends_count=872, listed_count=76, created_at=datetime.datetime(2008, 10, 6, 22, 27, 27), favourites_count=260, utc_offset=-21600, time_zone='Central America', geo_enabled=True, verified=False, statuses_count=4242, lang='en', status=Status(_api=<tweepy.api.API object at 0x000001CDAA5D9160>, _json={'created_at': 'Fri Feb 09 18:21:25 +0000 2018', 'id': 962028679982301184, 'id_str': '962028679982301184', 'text': '@MSFTResearch @MSRMontreal Hi, do you have summer internship positions open? I am a final year PhD student working… https://t.co/YtofOdEXQO', 'truncated': True, 'entities': {'hashtags': [], 'symbols': [], 'user_mentions': [{'screen_name': 'MSFTResearch', 'name': 'Microsoft Research', 'id': 21457289, 'id_str': '21457289', 'indices': [0, 13]}, {'screen_name': 'MSRMontreal', 'name': 'Microsoft Research Montreal', 'id': 340567890, 'id_str': '340567890', 'indices': [14, 26]}], 'urls': [{'url': 'https://t.co/YtofOdEXQO', 'expanded_url': 'https://twitter.com/i/web/status/962028679982301184', 'display_url': 'twitter.com/i/web/status/9…', 'indices': [116, 139]}]}, 'source': '<a href=\"http://twitter.com\" rel=\"nofollow\">Twitter Web Client</a>', 'in_reply_to_status_id': 961764337709928451, 'in_reply_to_status_id_str': '961764337709928451', 'in_reply_to_user_id': 21457289, 'in_reply_to_user_id_str': '21457289', 'in_reply_to_screen_name': 'MSFTResearch', 'geo': None, 'coordinates': None, 'place': None, 'contributors': None, 'is_quote_status': False, 'retweet_count': 0, 'favorite_count': 0, 'favorited': False, 'retweeted': False, 'lang': 'en'}, created_at=datetime.datetime(2018, 2, 9, 18, 21, 25), id=962028679982301184, id_str='962028679982301184', text='@MSFTResearch @MSRMontreal Hi, do you have summer internship positions open? I am a final year PhD student working… https://t.co/YtofOdEXQO', truncated=True, entities={'hashtags': [], 'symbols': [], 'user_mentions': [{'screen_name': 'MSFTResearch', 'name': 'Microsoft Research', 'id': 21457289, 'id_str': '21457289', 'indices': [0, 13]}, {'screen_name': 'MSRMontreal', 'name': 'Microsoft Research Montreal', 'id': 340567890, 'id_str': '340567890', 'indices': [14, 26]}], 'urls': [{'url': 'https://t.co/YtofOdEXQO', 'expanded_url': 'https://twitter.com/i/web/status/962028679982301184', 'display_url': 'twitter.com/i/web/status/9…', 'indices': [116, 139]}]}, source='Twitter Web Client', source_url='http://twitter.com', in_reply_to_status_id=961764337709928451, in_reply_to_status_id_str='961764337709928451', in_reply_to_user_id=21457289, in_reply_to_user_id_str='21457289', in_reply_to_screen_name='MSFTResearch', geo=None, coordinates=None, place=None, contributors=None, is_quote_status=False, retweet_count=0, favorite_count=0, favorited=False, retweeted=False, lang='en'), contributors_enabled=False, is_translator=False, is_translation_enabled=False, profile_background_color='030103', profile_background_image_url='http://abs.twimg.com/images/themes/theme18/bg.gif', profile_background_image_url_https='https://abs.twimg.com/images/themes/theme18/bg.gif', profile_background_tile=False, profile_image_url='http://pbs.twimg.com/profile_images/482000571210031104/CdTuSt_7_normal.jpeg', profile_image_url_https='https://pbs.twimg.com/profile_images/482000571210031104/CdTuSt_7_normal.jpeg', profile_banner_url='https://pbs.twimg.com/profile_banners/16621479/1404152030', profile_link_color='947974', profile_sidebar_border_color='ADF1FC', profile_sidebar_fill_color='000000', profile_text_color='FA8459', profile_use_background_image=True, has_extended_profile=True, default_profile=False, default_profile_image=False, following=False, follow_request_sent=False, notifications=False, translator_type='none', suspended=False, needs_phone_verification=False)"
      ]
     },
     "execution_count": 15,
     "metadata": {},
     "output_type": "execute_result"
    }
   ],
   "source": [
    "current_user = api.me()\n",
    "current_user"
   ]
  },
  {
   "cell_type": "code",
   "execution_count": 16,
   "metadata": {},
   "outputs": [
    {
     "data": {
      "text/plain": [
       "Status(_api=<tweepy.api.API object at 0x000001CDAA5D9160>, _json={'created_at': 'Wed Feb 14 03:20:24 +0000 2018', 'id': 963613872275034112, 'id_str': '963613872275034112', 'text': 'RT @MEL2AUSA: Shaun White wins US its 100th Winter Olympics gold with epic halfpipe performance!!! #Olympics https://t.co/q5E25PQi4i', 'truncated': False, 'entities': {'hashtags': [{'text': 'Olympics', 'indices': [99, 108]}], 'symbols': [], 'user_mentions': [{'screen_name': 'MEL2AUSA', 'name': 'MAGA MEL 🇺🇸', 'id': 3405962098, 'id_str': '3405962098', 'indices': [3, 12]}], 'urls': [{'url': 'https://t.co/q5E25PQi4i', 'expanded_url': 'http://www.foxnews.com/sports/2018/02/13/shaun-white-wins-us-its-100th-winter-olympics-gold-with-epic-halfpipe-performance.html', 'display_url': 'foxnews.com/sports/2018/02…', 'indices': [109, 132]}]}, 'metadata': {'iso_language_code': 'en', 'result_type': 'recent'}, 'source': '<a href=\"http://twitter.com/download/android\" rel=\"nofollow\">Twitter for Android</a>', 'in_reply_to_status_id': None, 'in_reply_to_status_id_str': None, 'in_reply_to_user_id': None, 'in_reply_to_user_id_str': None, 'in_reply_to_screen_name': None, 'user': {'id': 724510127341051904, 'id_str': '724510127341051904', 'name': 'Very patriotic', 'screen_name': 'VickiDillon15', 'location': '', 'description': 'Trump #MAGA if not a Trump supporter do not follow, dog lover, Love military, Law enforcement, first responders', 'url': None, 'entities': {'description': {'urls': []}}, 'protected': False, 'followers_count': 1161, 'friends_count': 1497, 'listed_count': 5, 'created_at': 'Mon Apr 25 08:07:29 +0000 2016', 'favourites_count': 19521, 'utc_offset': None, 'time_zone': None, 'geo_enabled': False, 'verified': False, 'statuses_count': 29163, 'lang': 'en', 'contributors_enabled': False, 'is_translator': False, 'is_translation_enabled': False, 'profile_background_color': 'F5F8FA', 'profile_background_image_url': None, 'profile_background_image_url_https': None, 'profile_background_tile': False, 'profile_image_url': 'http://abs.twimg.com/sticky/default_profile_images/default_profile_normal.png', 'profile_image_url_https': 'https://abs.twimg.com/sticky/default_profile_images/default_profile_normal.png', 'profile_banner_url': 'https://pbs.twimg.com/profile_banners/724510127341051904/1498513065', 'profile_link_color': '1DA1F2', 'profile_sidebar_border_color': 'C0DEED', 'profile_sidebar_fill_color': 'DDEEF6', 'profile_text_color': '333333', 'profile_use_background_image': True, 'has_extended_profile': False, 'default_profile': True, 'default_profile_image': True, 'following': False, 'follow_request_sent': False, 'notifications': False, 'translator_type': 'none'}, 'geo': None, 'coordinates': None, 'place': None, 'contributors': None, 'retweeted_status': {'created_at': 'Wed Feb 14 03:16:42 +0000 2018', 'id': 963612938602012672, 'id_str': '963612938602012672', 'text': 'Shaun White wins US its 100th Winter Olympics gold with epic halfpipe performance!!! #Olympics https://t.co/q5E25PQi4i', 'truncated': False, 'entities': {'hashtags': [{'text': 'Olympics', 'indices': [85, 94]}], 'symbols': [], 'user_mentions': [], 'urls': [{'url': 'https://t.co/q5E25PQi4i', 'expanded_url': 'http://www.foxnews.com/sports/2018/02/13/shaun-white-wins-us-its-100th-winter-olympics-gold-with-epic-halfpipe-performance.html', 'display_url': 'foxnews.com/sports/2018/02…', 'indices': [95, 118]}]}, 'metadata': {'iso_language_code': 'en', 'result_type': 'recent'}, 'source': '<a href=\"http://twitter.com/#!/download/ipad\" rel=\"nofollow\">Twitter for iPad</a>', 'in_reply_to_status_id': None, 'in_reply_to_status_id_str': None, 'in_reply_to_user_id': None, 'in_reply_to_user_id_str': None, 'in_reply_to_screen_name': None, 'user': {'id': 3405962098, 'id_str': '3405962098', 'name': 'MAGA MEL 🇺🇸', 'screen_name': 'MEL2AUSA', 'location': 'USA', 'description': '\"There is nothing in the world so irresistibly contagious as laughter & good humor.\" Charles Dickens 🇺🇸 #Patriot #2A🔫#TRUMP #MAGA #BuildTheWall 👉🏼 NO LISTS', 'url': 'https://t.co/bUXZzf0ILn', 'entities': {'url': {'urls': [{'url': 'https://t.co/bUXZzf0ILn', 'expanded_url': 'http://gab.ai/MAGA9MM', 'display_url': 'gab.ai/MAGA9MM', 'indices': [0, 23]}]}, 'description': {'urls': []}}, 'protected': False, 'followers_count': 32331, 'friends_count': 21210, 'listed_count': 38, 'created_at': 'Thu Aug 06 17:19:53 +0000 2015', 'favourites_count': 62305, 'utc_offset': -28800, 'time_zone': 'Pacific Time (US & Canada)', 'geo_enabled': False, 'verified': False, 'statuses_count': 55234, 'lang': 'en', 'contributors_enabled': False, 'is_translator': False, 'is_translation_enabled': False, 'profile_background_color': '000000', 'profile_background_image_url': 'http://abs.twimg.com/images/themes/theme1/bg.png', 'profile_background_image_url_https': 'https://abs.twimg.com/images/themes/theme1/bg.png', 'profile_background_tile': False, 'profile_image_url': 'http://pbs.twimg.com/profile_images/956447098332905472/y0BIeoGJ_normal.jpg', 'profile_image_url_https': 'https://pbs.twimg.com/profile_images/956447098332905472/y0BIeoGJ_normal.jpg', 'profile_banner_url': 'https://pbs.twimg.com/profile_banners/3405962098/1508796331', 'profile_link_color': '3B94D9', 'profile_sidebar_border_color': '000000', 'profile_sidebar_fill_color': '000000', 'profile_text_color': '000000', 'profile_use_background_image': False, 'has_extended_profile': False, 'default_profile': False, 'default_profile_image': False, 'following': False, 'follow_request_sent': False, 'notifications': False, 'translator_type': 'none'}, 'geo': None, 'coordinates': None, 'place': None, 'contributors': None, 'is_quote_status': False, 'retweet_count': 10, 'favorite_count': 25, 'favorited': False, 'retweeted': False, 'possibly_sensitive': False, 'lang': 'en'}, 'is_quote_status': False, 'retweet_count': 10, 'favorite_count': 0, 'favorited': False, 'retweeted': False, 'possibly_sensitive': False, 'lang': 'en'}, created_at=datetime.datetime(2018, 2, 14, 3, 20, 24), id=963613872275034112, id_str='963613872275034112', text='RT @MEL2AUSA: Shaun White wins US its 100th Winter Olympics gold with epic halfpipe performance!!! #Olympics https://t.co/q5E25PQi4i', truncated=False, entities={'hashtags': [{'text': 'Olympics', 'indices': [99, 108]}], 'symbols': [], 'user_mentions': [{'screen_name': 'MEL2AUSA', 'name': 'MAGA MEL 🇺🇸', 'id': 3405962098, 'id_str': '3405962098', 'indices': [3, 12]}], 'urls': [{'url': 'https://t.co/q5E25PQi4i', 'expanded_url': 'http://www.foxnews.com/sports/2018/02/13/shaun-white-wins-us-its-100th-winter-olympics-gold-with-epic-halfpipe-performance.html', 'display_url': 'foxnews.com/sports/2018/02…', 'indices': [109, 132]}]}, metadata={'iso_language_code': 'en', 'result_type': 'recent'}, source='Twitter for Android', source_url='http://twitter.com/download/android', in_reply_to_status_id=None, in_reply_to_status_id_str=None, in_reply_to_user_id=None, in_reply_to_user_id_str=None, in_reply_to_screen_name=None, author=User(_api=<tweepy.api.API object at 0x000001CDAA5D9160>, _json={'id': 724510127341051904, 'id_str': '724510127341051904', 'name': 'Very patriotic', 'screen_name': 'VickiDillon15', 'location': '', 'description': 'Trump #MAGA if not a Trump supporter do not follow, dog lover, Love military, Law enforcement, first responders', 'url': None, 'entities': {'description': {'urls': []}}, 'protected': False, 'followers_count': 1161, 'friends_count': 1497, 'listed_count': 5, 'created_at': 'Mon Apr 25 08:07:29 +0000 2016', 'favourites_count': 19521, 'utc_offset': None, 'time_zone': None, 'geo_enabled': False, 'verified': False, 'statuses_count': 29163, 'lang': 'en', 'contributors_enabled': False, 'is_translator': False, 'is_translation_enabled': False, 'profile_background_color': 'F5F8FA', 'profile_background_image_url': None, 'profile_background_image_url_https': None, 'profile_background_tile': False, 'profile_image_url': 'http://abs.twimg.com/sticky/default_profile_images/default_profile_normal.png', 'profile_image_url_https': 'https://abs.twimg.com/sticky/default_profile_images/default_profile_normal.png', 'profile_banner_url': 'https://pbs.twimg.com/profile_banners/724510127341051904/1498513065', 'profile_link_color': '1DA1F2', 'profile_sidebar_border_color': 'C0DEED', 'profile_sidebar_fill_color': 'DDEEF6', 'profile_text_color': '333333', 'profile_use_background_image': True, 'has_extended_profile': False, 'default_profile': True, 'default_profile_image': True, 'following': False, 'follow_request_sent': False, 'notifications': False, 'translator_type': 'none'}, id=724510127341051904, id_str='724510127341051904', name='Very patriotic', screen_name='VickiDillon15', location='', description='Trump #MAGA if not a Trump supporter do not follow, dog lover, Love military, Law enforcement, first responders', url=None, entities={'description': {'urls': []}}, protected=False, followers_count=1161, friends_count=1497, listed_count=5, created_at=datetime.datetime(2016, 4, 25, 8, 7, 29), favourites_count=19521, utc_offset=None, time_zone=None, geo_enabled=False, verified=False, statuses_count=29163, lang='en', contributors_enabled=False, is_translator=False, is_translation_enabled=False, profile_background_color='F5F8FA', profile_background_image_url=None, profile_background_image_url_https=None, profile_background_tile=False, profile_image_url='http://abs.twimg.com/sticky/default_profile_images/default_profile_normal.png', profile_image_url_https='https://abs.twimg.com/sticky/default_profile_images/default_profile_normal.png', profile_banner_url='https://pbs.twimg.com/profile_banners/724510127341051904/1498513065', profile_link_color='1DA1F2', profile_sidebar_border_color='C0DEED', profile_sidebar_fill_color='DDEEF6', profile_text_color='333333', profile_use_background_image=True, has_extended_profile=False, default_profile=True, default_profile_image=True, following=False, follow_request_sent=False, notifications=False, translator_type='none'), user=User(_api=<tweepy.api.API object at 0x000001CDAA5D9160>, _json={'id': 724510127341051904, 'id_str': '724510127341051904', 'name': 'Very patriotic', 'screen_name': 'VickiDillon15', 'location': '', 'description': 'Trump #MAGA if not a Trump supporter do not follow, dog lover, Love military, Law enforcement, first responders', 'url': None, 'entities': {'description': {'urls': []}}, 'protected': False, 'followers_count': 1161, 'friends_count': 1497, 'listed_count': 5, 'created_at': 'Mon Apr 25 08:07:29 +0000 2016', 'favourites_count': 19521, 'utc_offset': None, 'time_zone': None, 'geo_enabled': False, 'verified': False, 'statuses_count': 29163, 'lang': 'en', 'contributors_enabled': False, 'is_translator': False, 'is_translation_enabled': False, 'profile_background_color': 'F5F8FA', 'profile_background_image_url': None, 'profile_background_image_url_https': None, 'profile_background_tile': False, 'profile_image_url': 'http://abs.twimg.com/sticky/default_profile_images/default_profile_normal.png', 'profile_image_url_https': 'https://abs.twimg.com/sticky/default_profile_images/default_profile_normal.png', 'profile_banner_url': 'https://pbs.twimg.com/profile_banners/724510127341051904/1498513065', 'profile_link_color': '1DA1F2', 'profile_sidebar_border_color': 'C0DEED', 'profile_sidebar_fill_color': 'DDEEF6', 'profile_text_color': '333333', 'profile_use_background_image': True, 'has_extended_profile': False, 'default_profile': True, 'default_profile_image': True, 'following': False, 'follow_request_sent': False, 'notifications': False, 'translator_type': 'none'}, id=724510127341051904, id_str='724510127341051904', name='Very patriotic', screen_name='VickiDillon15', location='', description='Trump #MAGA if not a Trump supporter do not follow, dog lover, Love military, Law enforcement, first responders', url=None, entities={'description': {'urls': []}}, protected=False, followers_count=1161, friends_count=1497, listed_count=5, created_at=datetime.datetime(2016, 4, 25, 8, 7, 29), favourites_count=19521, utc_offset=None, time_zone=None, geo_enabled=False, verified=False, statuses_count=29163, lang='en', contributors_enabled=False, is_translator=False, is_translation_enabled=False, profile_background_color='F5F8FA', profile_background_image_url=None, profile_background_image_url_https=None, profile_background_tile=False, profile_image_url='http://abs.twimg.com/sticky/default_profile_images/default_profile_normal.png', profile_image_url_https='https://abs.twimg.com/sticky/default_profile_images/default_profile_normal.png', profile_banner_url='https://pbs.twimg.com/profile_banners/724510127341051904/1498513065', profile_link_color='1DA1F2', profile_sidebar_border_color='C0DEED', profile_sidebar_fill_color='DDEEF6', profile_text_color='333333', profile_use_background_image=True, has_extended_profile=False, default_profile=True, default_profile_image=True, following=False, follow_request_sent=False, notifications=False, translator_type='none'), geo=None, coordinates=None, place=None, contributors=None, retweeted_status=Status(_api=<tweepy.api.API object at 0x000001CDAA5D9160>, _json={'created_at': 'Wed Feb 14 03:16:42 +0000 2018', 'id': 963612938602012672, 'id_str': '963612938602012672', 'text': 'Shaun White wins US its 100th Winter Olympics gold with epic halfpipe performance!!! #Olympics https://t.co/q5E25PQi4i', 'truncated': False, 'entities': {'hashtags': [{'text': 'Olympics', 'indices': [85, 94]}], 'symbols': [], 'user_mentions': [], 'urls': [{'url': 'https://t.co/q5E25PQi4i', 'expanded_url': 'http://www.foxnews.com/sports/2018/02/13/shaun-white-wins-us-its-100th-winter-olympics-gold-with-epic-halfpipe-performance.html', 'display_url': 'foxnews.com/sports/2018/02…', 'indices': [95, 118]}]}, 'metadata': {'iso_language_code': 'en', 'result_type': 'recent'}, 'source': '<a href=\"http://twitter.com/#!/download/ipad\" rel=\"nofollow\">Twitter for iPad</a>', 'in_reply_to_status_id': None, 'in_reply_to_status_id_str': None, 'in_reply_to_user_id': None, 'in_reply_to_user_id_str': None, 'in_reply_to_screen_name': None, 'user': {'id': 3405962098, 'id_str': '3405962098', 'name': 'MAGA MEL 🇺🇸', 'screen_name': 'MEL2AUSA', 'location': 'USA', 'description': '\"There is nothing in the world so irresistibly contagious as laughter & good humor.\" Charles Dickens 🇺🇸 #Patriot #2A🔫#TRUMP #MAGA #BuildTheWall 👉🏼 NO LISTS', 'url': 'https://t.co/bUXZzf0ILn', 'entities': {'url': {'urls': [{'url': 'https://t.co/bUXZzf0ILn', 'expanded_url': 'http://gab.ai/MAGA9MM', 'display_url': 'gab.ai/MAGA9MM', 'indices': [0, 23]}]}, 'description': {'urls': []}}, 'protected': False, 'followers_count': 32331, 'friends_count': 21210, 'listed_count': 38, 'created_at': 'Thu Aug 06 17:19:53 +0000 2015', 'favourites_count': 62305, 'utc_offset': -28800, 'time_zone': 'Pacific Time (US & Canada)', 'geo_enabled': False, 'verified': False, 'statuses_count': 55234, 'lang': 'en', 'contributors_enabled': False, 'is_translator': False, 'is_translation_enabled': False, 'profile_background_color': '000000', 'profile_background_image_url': 'http://abs.twimg.com/images/themes/theme1/bg.png', 'profile_background_image_url_https': 'https://abs.twimg.com/images/themes/theme1/bg.png', 'profile_background_tile': False, 'profile_image_url': 'http://pbs.twimg.com/profile_images/956447098332905472/y0BIeoGJ_normal.jpg', 'profile_image_url_https': 'https://pbs.twimg.com/profile_images/956447098332905472/y0BIeoGJ_normal.jpg', 'profile_banner_url': 'https://pbs.twimg.com/profile_banners/3405962098/1508796331', 'profile_link_color': '3B94D9', 'profile_sidebar_border_color': '000000', 'profile_sidebar_fill_color': '000000', 'profile_text_color': '000000', 'profile_use_background_image': False, 'has_extended_profile': False, 'default_profile': False, 'default_profile_image': False, 'following': False, 'follow_request_sent': False, 'notifications': False, 'translator_type': 'none'}, 'geo': None, 'coordinates': None, 'place': None, 'contributors': None, 'is_quote_status': False, 'retweet_count': 10, 'favorite_count': 25, 'favorited': False, 'retweeted': False, 'possibly_sensitive': False, 'lang': 'en'}, created_at=datetime.datetime(2018, 2, 14, 3, 16, 42), id=963612938602012672, id_str='963612938602012672', text='Shaun White wins US its 100th Winter Olympics gold with epic halfpipe performance!!! #Olympics https://t.co/q5E25PQi4i', truncated=False, entities={'hashtags': [{'text': 'Olympics', 'indices': [85, 94]}], 'symbols': [], 'user_mentions': [], 'urls': [{'url': 'https://t.co/q5E25PQi4i', 'expanded_url': 'http://www.foxnews.com/sports/2018/02/13/shaun-white-wins-us-its-100th-winter-olympics-gold-with-epic-halfpipe-performance.html', 'display_url': 'foxnews.com/sports/2018/02…', 'indices': [95, 118]}]}, metadata={'iso_language_code': 'en', 'result_type': 'recent'}, source='Twitter for iPad', source_url='http://twitter.com/#!/download/ipad', in_reply_to_status_id=None, in_reply_to_status_id_str=None, in_reply_to_user_id=None, in_reply_to_user_id_str=None, in_reply_to_screen_name=None, author=User(_api=<tweepy.api.API object at 0x000001CDAA5D9160>, _json={'id': 3405962098, 'id_str': '3405962098', 'name': 'MAGA MEL 🇺🇸', 'screen_name': 'MEL2AUSA', 'location': 'USA', 'description': '\"There is nothing in the world so irresistibly contagious as laughter & good humor.\" Charles Dickens 🇺🇸 #Patriot #2A🔫#TRUMP #MAGA #BuildTheWall 👉🏼 NO LISTS', 'url': 'https://t.co/bUXZzf0ILn', 'entities': {'url': {'urls': [{'url': 'https://t.co/bUXZzf0ILn', 'expanded_url': 'http://gab.ai/MAGA9MM', 'display_url': 'gab.ai/MAGA9MM', 'indices': [0, 23]}]}, 'description': {'urls': []}}, 'protected': False, 'followers_count': 32331, 'friends_count': 21210, 'listed_count': 38, 'created_at': 'Thu Aug 06 17:19:53 +0000 2015', 'favourites_count': 62305, 'utc_offset': -28800, 'time_zone': 'Pacific Time (US & Canada)', 'geo_enabled': False, 'verified': False, 'statuses_count': 55234, 'lang': 'en', 'contributors_enabled': False, 'is_translator': False, 'is_translation_enabled': False, 'profile_background_color': '000000', 'profile_background_image_url': 'http://abs.twimg.com/images/themes/theme1/bg.png', 'profile_background_image_url_https': 'https://abs.twimg.com/images/themes/theme1/bg.png', 'profile_background_tile': False, 'profile_image_url': 'http://pbs.twimg.com/profile_images/956447098332905472/y0BIeoGJ_normal.jpg', 'profile_image_url_https': 'https://pbs.twimg.com/profile_images/956447098332905472/y0BIeoGJ_normal.jpg', 'profile_banner_url': 'https://pbs.twimg.com/profile_banners/3405962098/1508796331', 'profile_link_color': '3B94D9', 'profile_sidebar_border_color': '000000', 'profile_sidebar_fill_color': '000000', 'profile_text_color': '000000', 'profile_use_background_image': False, 'has_extended_profile': False, 'default_profile': False, 'default_profile_image': False, 'following': False, 'follow_request_sent': False, 'notifications': False, 'translator_type': 'none'}, id=3405962098, id_str='3405962098', name='MAGA MEL 🇺🇸', screen_name='MEL2AUSA', location='USA', description='\"There is nothing in the world so irresistibly contagious as laughter & good humor.\" Charles Dickens 🇺🇸 #Patriot #2A🔫#TRUMP #MAGA #BuildTheWall 👉🏼 NO LISTS', url='https://t.co/bUXZzf0ILn', entities={'url': {'urls': [{'url': 'https://t.co/bUXZzf0ILn', 'expanded_url': 'http://gab.ai/MAGA9MM', 'display_url': 'gab.ai/MAGA9MM', 'indices': [0, 23]}]}, 'description': {'urls': []}}, protected=False, followers_count=32331, friends_count=21210, listed_count=38, created_at=datetime.datetime(2015, 8, 6, 17, 19, 53), favourites_count=62305, utc_offset=-28800, time_zone='Pacific Time (US & Canada)', geo_enabled=False, verified=False, statuses_count=55234, lang='en', contributors_enabled=False, is_translator=False, is_translation_enabled=False, profile_background_color='000000', profile_background_image_url='http://abs.twimg.com/images/themes/theme1/bg.png', profile_background_image_url_https='https://abs.twimg.com/images/themes/theme1/bg.png', profile_background_tile=False, profile_image_url='http://pbs.twimg.com/profile_images/956447098332905472/y0BIeoGJ_normal.jpg', profile_image_url_https='https://pbs.twimg.com/profile_images/956447098332905472/y0BIeoGJ_normal.jpg', profile_banner_url='https://pbs.twimg.com/profile_banners/3405962098/1508796331', profile_link_color='3B94D9', profile_sidebar_border_color='000000', profile_sidebar_fill_color='000000', profile_text_color='000000', profile_use_background_image=False, has_extended_profile=False, default_profile=False, default_profile_image=False, following=False, follow_request_sent=False, notifications=False, translator_type='none'), user=User(_api=<tweepy.api.API object at 0x000001CDAA5D9160>, _json={'id': 3405962098, 'id_str': '3405962098', 'name': 'MAGA MEL 🇺🇸', 'screen_name': 'MEL2AUSA', 'location': 'USA', 'description': '\"There is nothing in the world so irresistibly contagious as laughter & good humor.\" Charles Dickens 🇺🇸 #Patriot #2A🔫#TRUMP #MAGA #BuildTheWall 👉🏼 NO LISTS', 'url': 'https://t.co/bUXZzf0ILn', 'entities': {'url': {'urls': [{'url': 'https://t.co/bUXZzf0ILn', 'expanded_url': 'http://gab.ai/MAGA9MM', 'display_url': 'gab.ai/MAGA9MM', 'indices': [0, 23]}]}, 'description': {'urls': []}}, 'protected': False, 'followers_count': 32331, 'friends_count': 21210, 'listed_count': 38, 'created_at': 'Thu Aug 06 17:19:53 +0000 2015', 'favourites_count': 62305, 'utc_offset': -28800, 'time_zone': 'Pacific Time (US & Canada)', 'geo_enabled': False, 'verified': False, 'statuses_count': 55234, 'lang': 'en', 'contributors_enabled': False, 'is_translator': False, 'is_translation_enabled': False, 'profile_background_color': '000000', 'profile_background_image_url': 'http://abs.twimg.com/images/themes/theme1/bg.png', 'profile_background_image_url_https': 'https://abs.twimg.com/images/themes/theme1/bg.png', 'profile_background_tile': False, 'profile_image_url': 'http://pbs.twimg.com/profile_images/956447098332905472/y0BIeoGJ_normal.jpg', 'profile_image_url_https': 'https://pbs.twimg.com/profile_images/956447098332905472/y0BIeoGJ_normal.jpg', 'profile_banner_url': 'https://pbs.twimg.com/profile_banners/3405962098/1508796331', 'profile_link_color': '3B94D9', 'profile_sidebar_border_color': '000000', 'profile_sidebar_fill_color': '000000', 'profile_text_color': '000000', 'profile_use_background_image': False, 'has_extended_profile': False, 'default_profile': False, 'default_profile_image': False, 'following': False, 'follow_request_sent': False, 'notifications': False, 'translator_type': 'none'}, id=3405962098, id_str='3405962098', name='MAGA MEL 🇺🇸', screen_name='MEL2AUSA', location='USA', description='\"There is nothing in the world so irresistibly contagious as laughter & good humor.\" Charles Dickens 🇺🇸 #Patriot #2A🔫#TRUMP #MAGA #BuildTheWall 👉🏼 NO LISTS', url='https://t.co/bUXZzf0ILn', entities={'url': {'urls': [{'url': 'https://t.co/bUXZzf0ILn', 'expanded_url': 'http://gab.ai/MAGA9MM', 'display_url': 'gab.ai/MAGA9MM', 'indices': [0, 23]}]}, 'description': {'urls': []}}, protected=False, followers_count=32331, friends_count=21210, listed_count=38, created_at=datetime.datetime(2015, 8, 6, 17, 19, 53), favourites_count=62305, utc_offset=-28800, time_zone='Pacific Time (US & Canada)', geo_enabled=False, verified=False, statuses_count=55234, lang='en', contributors_enabled=False, is_translator=False, is_translation_enabled=False, profile_background_color='000000', profile_background_image_url='http://abs.twimg.com/images/themes/theme1/bg.png', profile_background_image_url_https='https://abs.twimg.com/images/themes/theme1/bg.png', profile_background_tile=False, profile_image_url='http://pbs.twimg.com/profile_images/956447098332905472/y0BIeoGJ_normal.jpg', profile_image_url_https='https://pbs.twimg.com/profile_images/956447098332905472/y0BIeoGJ_normal.jpg', profile_banner_url='https://pbs.twimg.com/profile_banners/3405962098/1508796331', profile_link_color='3B94D9', profile_sidebar_border_color='000000', profile_sidebar_fill_color='000000', profile_text_color='000000', profile_use_background_image=False, has_extended_profile=False, default_profile=False, default_profile_image=False, following=False, follow_request_sent=False, notifications=False, translator_type='none'), geo=None, coordinates=None, place=None, contributors=None, is_quote_status=False, retweet_count=10, favorite_count=25, favorited=False, retweeted=False, possibly_sensitive=False, lang='en'), is_quote_status=False, retweet_count=10, favorite_count=0, favorited=False, retweeted=False, possibly_sensitive=False, lang='en')"
      ]
     },
     "execution_count": 16,
     "metadata": {},
     "output_type": "execute_result"
    }
   ],
   "source": [
    "status"
   ]
  },
  {
   "cell_type": "code",
   "execution_count": 17,
   "metadata": {},
   "outputs": [
    {
     "name": "stdout",
     "output_type": "stream",
     "text": [
      "Username: TheShubhanshu\n",
      "Full Name: Shubhanshu Mishra\n",
      "# Followers: 727\n",
      "# Friends: 872\n",
      "# Statuses: 4242\n"
     ]
    }
   ],
   "source": [
    "print(\n",
    "\"\"\"Username: {}\n",
    "Full Name: {}\n",
    "# Followers: {}\n",
    "# Friends: {}\n",
    "# Statuses: {}\"\"\".format(\n",
    "        current_user.screen_name,\n",
    "        current_user.name,\n",
    "        current_user.followers_count,\n",
    "        current_user.friends_count,\n",
    "        current_user.statuses_count\n",
    "    )\n",
    ")"
   ]
  },
  {
   "cell_type": "markdown",
   "metadata": {
    "collapsed": true
   },
   "source": [
    "## Friends API"
   ]
  },
  {
   "cell_type": "code",
   "execution_count": 18,
   "metadata": {},
   "outputs": [
    {
     "name": "stdout",
     "output_type": "stream",
     "text": [
      "Rate limit reached. Sleeping for: 551\n",
      "872 friends found for Shubhanshu Mishra\n"
     ]
    }
   ],
   "source": [
    "friends = []\n",
    "for friend in tw.Cursor(api.friends, count=100).items():\n",
    "    friends.append(friend)\n",
    "print(\"{} friends found for {}\".format(len(friends), current_user.name))"
   ]
  },
  {
   "cell_type": "code",
   "execution_count": 19,
   "metadata": {},
   "outputs": [
    {
     "data": {
      "text/html": [
       "<div>\n",
       "<style scoped>\n",
       "    .dataframe tbody tr th:only-of-type {\n",
       "        vertical-align: middle;\n",
       "    }\n",
       "\n",
       "    .dataframe tbody tr th {\n",
       "        vertical-align: top;\n",
       "    }\n",
       "\n",
       "    .dataframe thead th {\n",
       "        text-align: right;\n",
       "    }\n",
       "</style>\n",
       "<table border=\"1\" class=\"dataframe\">\n",
       "  <thead>\n",
       "    <tr style=\"text-align: right;\">\n",
       "      <th></th>\n",
       "      <th>id</th>\n",
       "      <th>name</th>\n",
       "      <th>friends</th>\n",
       "      <th>followers</th>\n",
       "      <th>statuses</th>\n",
       "    </tr>\n",
       "  </thead>\n",
       "  <tbody>\n",
       "    <tr>\n",
       "      <th>0</th>\n",
       "      <td>813286</td>\n",
       "      <td>Barack Obama</td>\n",
       "      <td>624792</td>\n",
       "      <td>99895266</td>\n",
       "      <td>15492</td>\n",
       "    </tr>\n",
       "    <tr>\n",
       "      <th>1</th>\n",
       "      <td>50393960</td>\n",
       "      <td>Bill Gates</td>\n",
       "      <td>183</td>\n",
       "      <td>44124243</td>\n",
       "      <td>2588</td>\n",
       "    </tr>\n",
       "    <tr>\n",
       "      <th>2</th>\n",
       "      <td>71201743</td>\n",
       "      <td>Virat Kohli</td>\n",
       "      <td>51</td>\n",
       "      <td>22906032</td>\n",
       "      <td>1427</td>\n",
       "    </tr>\n",
       "    <tr>\n",
       "      <th>3</th>\n",
       "      <td>88856792</td>\n",
       "      <td>Aamir Khan</td>\n",
       "      <td>9</td>\n",
       "      <td>22825283</td>\n",
       "      <td>520</td>\n",
       "    </tr>\n",
       "    <tr>\n",
       "      <th>4</th>\n",
       "      <td>20536157</td>\n",
       "      <td>Google</td>\n",
       "      <td>213</td>\n",
       "      <td>20004564</td>\n",
       "      <td>80723</td>\n",
       "    </tr>\n",
       "    <tr>\n",
       "      <th>5</th>\n",
       "      <td>44196397</td>\n",
       "      <td>Elon Musk</td>\n",
       "      <td>47</td>\n",
       "      <td>19499145</td>\n",
       "      <td>3878</td>\n",
       "    </tr>\n",
       "    <tr>\n",
       "      <th>6</th>\n",
       "      <td>1536791610</td>\n",
       "      <td>President Obama</td>\n",
       "      <td>79</td>\n",
       "      <td>15205386</td>\n",
       "      <td>352</td>\n",
       "    </tr>\n",
       "    <tr>\n",
       "      <th>7</th>\n",
       "      <td>19725644</td>\n",
       "      <td>Neil deGrasse Tyson</td>\n",
       "      <td>43</td>\n",
       "      <td>11640079</td>\n",
       "      <td>5706</td>\n",
       "    </tr>\n",
       "    <tr>\n",
       "      <th>8</th>\n",
       "      <td>15492359</td>\n",
       "      <td>TED Talks</td>\n",
       "      <td>549</td>\n",
       "      <td>10963875</td>\n",
       "      <td>26114</td>\n",
       "    </tr>\n",
       "    <tr>\n",
       "      <th>9</th>\n",
       "      <td>204832963</td>\n",
       "      <td>God</td>\n",
       "      <td>1</td>\n",
       "      <td>4434566</td>\n",
       "      <td>10254</td>\n",
       "    </tr>\n",
       "    <tr>\n",
       "      <th>10</th>\n",
       "      <td>15473958</td>\n",
       "      <td>Curiosity Rover</td>\n",
       "      <td>166</td>\n",
       "      <td>3924619</td>\n",
       "      <td>3457</td>\n",
       "    </tr>\n",
       "    <tr>\n",
       "      <th>11</th>\n",
       "      <td>14647570</td>\n",
       "      <td>Scientific American</td>\n",
       "      <td>509</td>\n",
       "      <td>3499231</td>\n",
       "      <td>57371</td>\n",
       "    </tr>\n",
       "    <tr>\n",
       "      <th>12</th>\n",
       "      <td>16017475</td>\n",
       "      <td>Nate Silver</td>\n",
       "      <td>1062</td>\n",
       "      <td>2971049</td>\n",
       "      <td>17786</td>\n",
       "    </tr>\n",
       "    <tr>\n",
       "      <th>13</th>\n",
       "      <td>15234407</td>\n",
       "      <td>CERN</td>\n",
       "      <td>405</td>\n",
       "      <td>2559951</td>\n",
       "      <td>3156</td>\n",
       "    </tr>\n",
       "    <tr>\n",
       "      <th>14</th>\n",
       "      <td>50090898</td>\n",
       "      <td>Google Developers</td>\n",
       "      <td>247</td>\n",
       "      <td>2134801</td>\n",
       "      <td>4763</td>\n",
       "    </tr>\n",
       "  </tbody>\n",
       "</table>\n",
       "</div>"
      ],
      "text/plain": [
       "            id                 name  friends  followers  statuses\n",
       "0       813286         Barack Obama   624792   99895266     15492\n",
       "1     50393960           Bill Gates      183   44124243      2588\n",
       "2     71201743          Virat Kohli       51   22906032      1427\n",
       "3     88856792           Aamir Khan        9   22825283       520\n",
       "4     20536157               Google      213   20004564     80723\n",
       "5     44196397            Elon Musk       47   19499145      3878\n",
       "6   1536791610      President Obama       79   15205386       352\n",
       "7     19725644  Neil deGrasse Tyson       43   11640079      5706\n",
       "8     15492359            TED Talks      549   10963875     26114\n",
       "9    204832963                  God        1    4434566     10254\n",
       "10    15473958      Curiosity Rover      166    3924619      3457\n",
       "11    14647570  Scientific American      509    3499231     57371\n",
       "12    16017475          Nate Silver     1062    2971049     17786\n",
       "13    15234407                 CERN      405    2559951      3156\n",
       "14    50090898    Google Developers      247    2134801      4763"
      ]
     },
     "execution_count": 19,
     "metadata": {},
     "output_type": "execute_result"
    }
   ],
   "source": [
    "df_friends = pd.DataFrame(\n",
    "    list(map(\n",
    "        lambda k: (k.id, k.name, k.friends_count, k.followers_count, k.statuses_count),\n",
    "        friends\n",
    "    )), columns=[\"id\", \"name\", \"friends\", \"followers\", \"statuses\"]\n",
    ").sort_values(\"followers\", ascending=False).reset_index(drop=True)\n",
    "df_friends.head(15)"
   ]
  },
  {
   "cell_type": "code",
   "execution_count": 20,
   "metadata": {},
   "outputs": [
    {
     "data": {
      "text/plain": [
       "(872, 872)"
      ]
     },
     "execution_count": 20,
     "metadata": {},
     "output_type": "execute_result"
    }
   ],
   "source": [
    "network = np.zeros([df_friends.shape[0], df_friends.shape[0]])\n",
    "network.shape"
   ]
  },
  {
   "cell_type": "code",
   "execution_count": 21,
   "metadata": {},
   "outputs": [],
   "source": [
    "def get_friendship(id1, id2, verbose=False):\n",
    "    response = api.show_friendship(source_id=id1, target_id=id2)\n",
    "    if verbose:\n",
    "        print(response)\n",
    "    return response[0].following, response[1].following\n",
    "    "
   ]
  },
  {
   "cell_type": "code",
   "execution_count": 22,
   "metadata": {},
   "outputs": [
    {
     "name": "stdout",
     "output_type": "stream",
     "text": [
      "(Friendship(_api=<tweepy.api.API object at 0x000001CDAA5D9160>, id=813286, id_str='813286', screen_name='BarackObama', following=False, followed_by=True, live_following=False, following_received=None, following_requested=None, notifications_enabled=None, can_dm=True, blocking=None, blocked_by=None, muting=None, want_retweets=None, all_replies=None, marked_spam=None), Friendship(_api=<tweepy.api.API object at 0x000001CDAA5D9160>, id=50393960, id_str='50393960', screen_name='BillGates', following=True, followed_by=False, following_received=None, following_requested=None))\n"
     ]
    },
    {
     "data": {
      "text/plain": [
       "(False, True)"
      ]
     },
     "execution_count": 22,
     "metadata": {},
     "output_type": "execute_result"
    }
   ],
   "source": [
    "get_friendship(df_friends[\"id\"].values[0], df_friends[\"id\"].values[1], verbose=True)"
   ]
  },
  {
   "cell_type": "code",
   "execution_count": 23,
   "metadata": {},
   "outputs": [
    {
     "data": {
      "text/plain": [
       "array([0., 1., 0.])"
      ]
     },
     "execution_count": 23,
     "metadata": {},
     "output_type": "execute_result"
    }
   ],
   "source": [
    "network[0, 0] = False\n",
    "network[1, 0] = True\n",
    "network[0:3, 0]"
   ]
  },
  {
   "cell_type": "code",
   "execution_count": 24,
   "metadata": {},
   "outputs": [],
   "source": [
    "def generate_ego_network(df_friends):\n",
    "    network = np.zeros([df_friends.shape[0], df_friends.shape[0]])\n",
    "    processed_friendships=0\n",
    "    for i, fid1 in enumerate(df_friends[\"id\"].values):\n",
    "        for j, fid2 in enumerate(df_friends[\"id\"].values[i+1:], start=i+1):\n",
    "            try:\n",
    "                tie_labels = get_friendship(fid1, fid2)\n",
    "                processed_friendships += 1\n",
    "            except:\n",
    "                print(\"Processed friendships = {}\".format(processed_friendships))\n",
    "                print(\"Error occurred\")\n",
    "                return network\n",
    "            network[i, j] = tie_labels[0]\n",
    "            network[j, i] = tie_labels[1]\n",
    "    return network"
   ]
  },
  {
   "cell_type": "code",
   "execution_count": 25,
   "metadata": {},
   "outputs": [
    {
     "data": {
      "text/html": [
       "<div>\n",
       "<style scoped>\n",
       "    .dataframe tbody tr th:only-of-type {\n",
       "        vertical-align: middle;\n",
       "    }\n",
       "\n",
       "    .dataframe tbody tr th {\n",
       "        vertical-align: top;\n",
       "    }\n",
       "\n",
       "    .dataframe thead th {\n",
       "        text-align: right;\n",
       "    }\n",
       "</style>\n",
       "<table border=\"1\" class=\"dataframe\">\n",
       "  <thead>\n",
       "    <tr style=\"text-align: right;\">\n",
       "      <th></th>\n",
       "      <th>id</th>\n",
       "      <th>name</th>\n",
       "      <th>friends</th>\n",
       "      <th>followers</th>\n",
       "      <th>statuses</th>\n",
       "    </tr>\n",
       "  </thead>\n",
       "  <tbody>\n",
       "    <tr>\n",
       "      <th>867</th>\n",
       "      <td>709866998604419072</td>\n",
       "      <td>ICSS2016</td>\n",
       "      <td>0</td>\n",
       "      <td>17</td>\n",
       "      <td>28</td>\n",
       "    </tr>\n",
       "    <tr>\n",
       "      <th>868</th>\n",
       "      <td>217524967</td>\n",
       "      <td>Shubhanshu Mishra</td>\n",
       "      <td>3</td>\n",
       "      <td>12</td>\n",
       "      <td>382</td>\n",
       "    </tr>\n",
       "    <tr>\n",
       "      <th>869</th>\n",
       "      <td>920666302112464896</td>\n",
       "      <td>Shivangi Prasad</td>\n",
       "      <td>14</td>\n",
       "      <td>3</td>\n",
       "      <td>0</td>\n",
       "    </tr>\n",
       "    <tr>\n",
       "      <th>870</th>\n",
       "      <td>4330080442</td>\n",
       "      <td>Sudhanshu Mishra</td>\n",
       "      <td>21</td>\n",
       "      <td>2</td>\n",
       "      <td>0</td>\n",
       "    </tr>\n",
       "    <tr>\n",
       "      <th>871</th>\n",
       "      <td>492698838</td>\n",
       "      <td>LiveLifeLikeAJive</td>\n",
       "      <td>9</td>\n",
       "      <td>1</td>\n",
       "      <td>0</td>\n",
       "    </tr>\n",
       "  </tbody>\n",
       "</table>\n",
       "</div>"
      ],
      "text/plain": [
       "                     id               name  friends  followers  statuses\n",
       "867  709866998604419072           ICSS2016        0         17        28\n",
       "868           217524967  Shubhanshu Mishra        3         12       382\n",
       "869  920666302112464896    Shivangi Prasad       14          3         0\n",
       "870          4330080442   Sudhanshu Mishra       21          2         0\n",
       "871           492698838  LiveLifeLikeAJive        9          1         0"
      ]
     },
     "execution_count": 25,
     "metadata": {},
     "output_type": "execute_result"
    }
   ],
   "source": [
    "df_friends.tail()"
   ]
  },
  {
   "cell_type": "markdown",
   "metadata": {},
   "source": [
    "## Generate user mention network"
   ]
  },
  {
   "cell_type": "code",
   "execution_count": 26,
   "metadata": {},
   "outputs": [
    {
     "name": "stdout",
     "output_type": "stream",
     "text": [
      "What is your search term?deep learning\n"
     ]
    }
   ],
   "source": [
    "statuses = [status for status in tw.Cursor(\n",
    "    api.search, q=input(\"What is your search term?\"), count=100).items(100)]"
   ]
  },
  {
   "cell_type": "code",
   "execution_count": 27,
   "metadata": {},
   "outputs": [
    {
     "data": {
      "text/plain": [
       "100"
      ]
     },
     "execution_count": 27,
     "metadata": {},
     "output_type": "execute_result"
    }
   ],
   "source": [
    "len(statuses)"
   ]
  },
  {
   "cell_type": "code",
   "execution_count": 28,
   "metadata": {},
   "outputs": [],
   "source": [
    "status = next(filter(lambda x: len(x.entities[\"hashtags\"]), statuses))"
   ]
  },
  {
   "cell_type": "code",
   "execution_count": 29,
   "metadata": {},
   "outputs": [
    {
     "data": {
      "text/plain": [
       "{'hashtags': [{'indices': [102, 105], 'text': 'AI'},\n",
       "  {'indices': [106, 122], 'text': 'MachineLearning'},\n",
       "  {'indices': [123, 136], 'text': 'DeepLearning'}],\n",
       " 'symbols': [],\n",
       " 'urls': [],\n",
       " 'user_mentions': [{'id': 841437061,\n",
       "   'id_str': '841437061',\n",
       "   'indices': [3, 16],\n",
       "   'name': 'AI',\n",
       "   'screen_name': 'DeepLearn007'},\n",
       "  {'id': 32904892,\n",
       "   'id_str': '32904892',\n",
       "   'indices': [94, 101],\n",
       "   'name': 'GumGum',\n",
       "   'screen_name': 'GumGum'}]}"
      ]
     },
     "execution_count": 29,
     "metadata": {},
     "output_type": "execute_result"
    }
   ],
   "source": [
    "status.entities"
   ]
  },
  {
   "cell_type": "code",
   "execution_count": 30,
   "metadata": {},
   "outputs": [],
   "source": [
    "def get_entities(statuses, entity_type, text_property):\n",
    "    entity_counts = defaultdict(int)\n",
    "    entity_network = defaultdict(int)\n",
    "    for status in statuses:\n",
    "        for i, entity in enumerate(status.entities[entity_type]):\n",
    "            entity_counts[entity[text_property].lower()] += 1\n",
    "            for j, entity_2 in enumerate(status.entities[entity_type][i+1:], start=i+1):\n",
    "                entity_network[(\n",
    "                    entity[text_property].lower(),\n",
    "                    entity_2[text_property].lower()\n",
    "                )] += 1\n",
    "    return entity_counts, entity_network"
   ]
  },
  {
   "cell_type": "code",
   "execution_count": 31,
   "metadata": {},
   "outputs": [],
   "source": [
    "entity_type=\"user_mentions\"\n",
    "text_property=\"screen_name\"\n",
    "entity_counts, entity_network = get_entities(statuses, entity_type, text_property)"
   ]
  },
  {
   "cell_type": "code",
   "execution_count": 32,
   "metadata": {},
   "outputs": [
    {
     "data": {
      "text/html": [
       "<div>\n",
       "<style scoped>\n",
       "    .dataframe tbody tr th:only-of-type {\n",
       "        vertical-align: middle;\n",
       "    }\n",
       "\n",
       "    .dataframe tbody tr th {\n",
       "        vertical-align: top;\n",
       "    }\n",
       "\n",
       "    .dataframe thead th {\n",
       "        text-align: right;\n",
       "    }\n",
       "</style>\n",
       "<table border=\"1\" class=\"dataframe\">\n",
       "  <thead>\n",
       "    <tr style=\"text-align: right;\">\n",
       "      <th></th>\n",
       "      <th>entity</th>\n",
       "      <th>counts</th>\n",
       "    </tr>\n",
       "  </thead>\n",
       "  <tbody>\n",
       "    <tr>\n",
       "      <th>0</th>\n",
       "      <td>deeplearn007</td>\n",
       "      <td>18</td>\n",
       "    </tr>\n",
       "    <tr>\n",
       "      <th>1</th>\n",
       "      <td>sajidmirza</td>\n",
       "      <td>9</td>\n",
       "    </tr>\n",
       "    <tr>\n",
       "      <th>2</th>\n",
       "      <td>datasciencectrl</td>\n",
       "      <td>5</td>\n",
       "    </tr>\n",
       "    <tr>\n",
       "      <th>3</th>\n",
       "      <td>kirkdborne</td>\n",
       "      <td>4</td>\n",
       "    </tr>\n",
       "    <tr>\n",
       "      <th>4</th>\n",
       "      <td>ronald_vanloon</td>\n",
       "      <td>4</td>\n",
       "    </tr>\n",
       "  </tbody>\n",
       "</table>\n",
       "</div>"
      ],
      "text/plain": [
       "            entity  counts\n",
       "0     deeplearn007      18\n",
       "1       sajidmirza       9\n",
       "2  datasciencectrl       5\n",
       "3       kirkdborne       4\n",
       "4   ronald_vanloon       4"
      ]
     },
     "execution_count": 32,
     "metadata": {},
     "output_type": "execute_result"
    }
   ],
   "source": [
    "df_entities = pd.DataFrame(list(entity_counts.items()),\n",
    "                           columns=[\"entity\", \"counts\"]).sort_values(\n",
    "    \"counts\", ascending=False\n",
    ").reset_index(drop=True)\n",
    "df_entities.head()"
   ]
  },
  {
   "cell_type": "code",
   "execution_count": 33,
   "metadata": {},
   "outputs": [
    {
     "data": {
      "text/html": [
       "<div>\n",
       "<style scoped>\n",
       "    .dataframe tbody tr th:only-of-type {\n",
       "        vertical-align: middle;\n",
       "    }\n",
       "\n",
       "    .dataframe tbody tr th {\n",
       "        vertical-align: top;\n",
       "    }\n",
       "\n",
       "    .dataframe thead th {\n",
       "        text-align: right;\n",
       "    }\n",
       "</style>\n",
       "<table border=\"1\" class=\"dataframe\">\n",
       "  <thead>\n",
       "    <tr style=\"text-align: right;\">\n",
       "      <th></th>\n",
       "      <th>entity</th>\n",
       "      <th>counts</th>\n",
       "    </tr>\n",
       "  </thead>\n",
       "  <tbody>\n",
       "    <tr>\n",
       "      <th>0</th>\n",
       "      <td>deeplearn007</td>\n",
       "      <td>18</td>\n",
       "    </tr>\n",
       "    <tr>\n",
       "      <th>1</th>\n",
       "      <td>sajidmirza</td>\n",
       "      <td>9</td>\n",
       "    </tr>\n",
       "    <tr>\n",
       "      <th>2</th>\n",
       "      <td>datasciencectrl</td>\n",
       "      <td>5</td>\n",
       "    </tr>\n",
       "    <tr>\n",
       "      <th>3</th>\n",
       "      <td>kirkdborne</td>\n",
       "      <td>4</td>\n",
       "    </tr>\n",
       "    <tr>\n",
       "      <th>4</th>\n",
       "      <td>ronald_vanloon</td>\n",
       "      <td>4</td>\n",
       "    </tr>\n",
       "    <tr>\n",
       "      <th>5</th>\n",
       "      <td>hiho_karuta</td>\n",
       "      <td>4</td>\n",
       "    </tr>\n",
       "    <tr>\n",
       "      <th>6</th>\n",
       "      <td>andrewlbeam</td>\n",
       "      <td>4</td>\n",
       "    </tr>\n",
       "    <tr>\n",
       "      <th>7</th>\n",
       "      <td>equity_ddsb</td>\n",
       "      <td>3</td>\n",
       "    </tr>\n",
       "    <tr>\n",
       "      <th>8</th>\n",
       "      <td>productivesys</td>\n",
       "      <td>3</td>\n",
       "    </tr>\n",
       "    <tr>\n",
       "      <th>9</th>\n",
       "      <td>gumgum</td>\n",
       "      <td>3</td>\n",
       "    </tr>\n",
       "    <tr>\n",
       "      <th>10</th>\n",
       "      <td>williamvorhies</td>\n",
       "      <td>3</td>\n",
       "    </tr>\n",
       "    <tr>\n",
       "      <th>11</th>\n",
       "      <td>forbes</td>\n",
       "      <td>2</td>\n",
       "    </tr>\n",
       "    <tr>\n",
       "      <th>12</th>\n",
       "      <td>tylerpaolo</td>\n",
       "      <td>2</td>\n",
       "    </tr>\n",
       "    <tr>\n",
       "      <th>13</th>\n",
       "      <td>ddsbleadership</td>\n",
       "      <td>2</td>\n",
       "    </tr>\n",
       "    <tr>\n",
       "      <th>14</th>\n",
       "      <td>xero</td>\n",
       "      <td>2</td>\n",
       "    </tr>\n",
       "    <tr>\n",
       "      <th>15</th>\n",
       "      <td>johnhall</td>\n",
       "      <td>2</td>\n",
       "    </tr>\n",
       "    <tr>\n",
       "      <th>16</th>\n",
       "      <td>veazielions</td>\n",
       "      <td>2</td>\n",
       "    </tr>\n",
       "    <tr>\n",
       "      <th>17</th>\n",
       "      <td>_farooqumar</td>\n",
       "      <td>1</td>\n",
       "    </tr>\n",
       "    <tr>\n",
       "      <th>18</th>\n",
       "      <td>ceejbot</td>\n",
       "      <td>1</td>\n",
       "    </tr>\n",
       "    <tr>\n",
       "      <th>19</th>\n",
       "      <td>therealjonadams</td>\n",
       "      <td>1</td>\n",
       "    </tr>\n",
       "  </tbody>\n",
       "</table>\n",
       "</div>"
      ],
      "text/plain": [
       "             entity  counts\n",
       "0      deeplearn007      18\n",
       "1        sajidmirza       9\n",
       "2   datasciencectrl       5\n",
       "3        kirkdborne       4\n",
       "4    ronald_vanloon       4\n",
       "5       hiho_karuta       4\n",
       "6       andrewlbeam       4\n",
       "7       equity_ddsb       3\n",
       "8     productivesys       3\n",
       "9            gumgum       3\n",
       "10   williamvorhies       3\n",
       "11           forbes       2\n",
       "12       tylerpaolo       2\n",
       "13   ddsbleadership       2\n",
       "14             xero       2\n",
       "15         johnhall       2\n",
       "16      veazielions       2\n",
       "17      _farooqumar       1\n",
       "18          ceejbot       1\n",
       "19  therealjonadams       1"
      ]
     },
     "execution_count": 33,
     "metadata": {},
     "output_type": "execute_result"
    }
   ],
   "source": [
    "df_entities.head(20)"
   ]
  },
  {
   "cell_type": "code",
   "execution_count": 34,
   "metadata": {},
   "outputs": [
    {
     "data": {
      "text/html": [
       "<div>\n",
       "<style scoped>\n",
       "    .dataframe tbody tr th:only-of-type {\n",
       "        vertical-align: middle;\n",
       "    }\n",
       "\n",
       "    .dataframe tbody tr th {\n",
       "        vertical-align: top;\n",
       "    }\n",
       "\n",
       "    .dataframe thead th {\n",
       "        text-align: right;\n",
       "    }\n",
       "</style>\n",
       "<table border=\"1\" class=\"dataframe\">\n",
       "  <thead>\n",
       "    <tr style=\"text-align: right;\">\n",
       "      <th></th>\n",
       "      <th>user_mentions_1</th>\n",
       "      <th>user_mentions_2</th>\n",
       "      <th>counts</th>\n",
       "    </tr>\n",
       "  </thead>\n",
       "  <tbody>\n",
       "    <tr>\n",
       "      <th>0</th>\n",
       "      <td>ronald_vanloon</td>\n",
       "      <td>datasciencectrl</td>\n",
       "      <td>4</td>\n",
       "    </tr>\n",
       "    <tr>\n",
       "      <th>1</th>\n",
       "      <td>ronald_vanloon</td>\n",
       "      <td>williamvorhies</td>\n",
       "      <td>3</td>\n",
       "    </tr>\n",
       "    <tr>\n",
       "      <th>2</th>\n",
       "      <td>williamvorhies</td>\n",
       "      <td>datasciencectrl</td>\n",
       "      <td>3</td>\n",
       "    </tr>\n",
       "    <tr>\n",
       "      <th>3</th>\n",
       "      <td>deeplearn007</td>\n",
       "      <td>gumgum</td>\n",
       "      <td>3</td>\n",
       "    </tr>\n",
       "    <tr>\n",
       "      <th>4</th>\n",
       "      <td>johnhall</td>\n",
       "      <td>forbes</td>\n",
       "      <td>2</td>\n",
       "    </tr>\n",
       "  </tbody>\n",
       "</table>\n",
       "</div>"
      ],
      "text/plain": [
       "  user_mentions_1  user_mentions_2  counts\n",
       "0  ronald_vanloon  datasciencectrl       4\n",
       "1  ronald_vanloon   williamvorhies       3\n",
       "2  williamvorhies  datasciencectrl       3\n",
       "3    deeplearn007           gumgum       3\n",
       "4        johnhall           forbes       2"
      ]
     },
     "execution_count": 34,
     "metadata": {},
     "output_type": "execute_result"
    }
   ],
   "source": [
    "df_entity_pairs = pd.DataFrame([(k1, k2, v) for (k1,k2), v in entity_network.items()],\n",
    "                           columns=[\n",
    "                               \"{}_1\".format(entity_type),\n",
    "                               \"{}_2\".format(entity_type),\n",
    "                               \"counts\"]).sort_values(\n",
    "    \"counts\", ascending=False\n",
    ").reset_index(drop=True)\n",
    "df_entity_pairs.head()"
   ]
  },
  {
   "cell_type": "code",
   "execution_count": 35,
   "metadata": {},
   "outputs": [
    {
     "data": {
      "text/html": [
       "<div>\n",
       "<style scoped>\n",
       "    .dataframe tbody tr th:only-of-type {\n",
       "        vertical-align: middle;\n",
       "    }\n",
       "\n",
       "    .dataframe tbody tr th {\n",
       "        vertical-align: top;\n",
       "    }\n",
       "\n",
       "    .dataframe thead th {\n",
       "        text-align: right;\n",
       "    }\n",
       "</style>\n",
       "<table border=\"1\" class=\"dataframe\">\n",
       "  <thead>\n",
       "    <tr style=\"text-align: right;\">\n",
       "      <th></th>\n",
       "      <th>user_mentions_1</th>\n",
       "      <th>user_mentions_2</th>\n",
       "      <th>counts</th>\n",
       "    </tr>\n",
       "  </thead>\n",
       "  <tbody>\n",
       "    <tr>\n",
       "      <th>0</th>\n",
       "      <td>ronald_vanloon</td>\n",
       "      <td>datasciencectrl</td>\n",
       "      <td>4</td>\n",
       "    </tr>\n",
       "    <tr>\n",
       "      <th>1</th>\n",
       "      <td>ronald_vanloon</td>\n",
       "      <td>williamvorhies</td>\n",
       "      <td>3</td>\n",
       "    </tr>\n",
       "    <tr>\n",
       "      <th>2</th>\n",
       "      <td>williamvorhies</td>\n",
       "      <td>datasciencectrl</td>\n",
       "      <td>3</td>\n",
       "    </tr>\n",
       "    <tr>\n",
       "      <th>3</th>\n",
       "      <td>deeplearn007</td>\n",
       "      <td>gumgum</td>\n",
       "      <td>3</td>\n",
       "    </tr>\n",
       "    <tr>\n",
       "      <th>4</th>\n",
       "      <td>johnhall</td>\n",
       "      <td>forbes</td>\n",
       "      <td>2</td>\n",
       "    </tr>\n",
       "    <tr>\n",
       "      <th>5</th>\n",
       "      <td>ddsbleadership</td>\n",
       "      <td>equity_ddsb</td>\n",
       "      <td>2</td>\n",
       "    </tr>\n",
       "    <tr>\n",
       "      <th>6</th>\n",
       "      <td>tylerpaolo</td>\n",
       "      <td>andrewlbeam</td>\n",
       "      <td>2</td>\n",
       "    </tr>\n",
       "    <tr>\n",
       "      <th>7</th>\n",
       "      <td>hankmullaney</td>\n",
       "      <td>nhmommy1</td>\n",
       "      <td>1</td>\n",
       "    </tr>\n",
       "    <tr>\n",
       "      <th>8</th>\n",
       "      <td>matthew____p</td>\n",
       "      <td>therealjonadams</td>\n",
       "      <td>1</td>\n",
       "    </tr>\n",
       "    <tr>\n",
       "      <th>9</th>\n",
       "      <td>matthew____p</td>\n",
       "      <td>scottadamssays</td>\n",
       "      <td>1</td>\n",
       "    </tr>\n",
       "    <tr>\n",
       "      <th>10</th>\n",
       "      <td>radgeekpartduex</td>\n",
       "      <td>hankmullaney</td>\n",
       "      <td>1</td>\n",
       "    </tr>\n",
       "    <tr>\n",
       "      <th>11</th>\n",
       "      <td>radgeekpartduex</td>\n",
       "      <td>jskielb3</td>\n",
       "      <td>1</td>\n",
       "    </tr>\n",
       "    <tr>\n",
       "      <th>12</th>\n",
       "      <td>radgeekpartduex</td>\n",
       "      <td>nhmommy1</td>\n",
       "      <td>1</td>\n",
       "    </tr>\n",
       "    <tr>\n",
       "      <th>13</th>\n",
       "      <td>radgeekpartduex</td>\n",
       "      <td>therealjonadams</td>\n",
       "      <td>1</td>\n",
       "    </tr>\n",
       "    <tr>\n",
       "      <th>14</th>\n",
       "      <td>radgeekpartduex</td>\n",
       "      <td>scottadamssays</td>\n",
       "      <td>1</td>\n",
       "    </tr>\n",
       "    <tr>\n",
       "      <th>15</th>\n",
       "      <td>hankmullaney</td>\n",
       "      <td>jskielb3</td>\n",
       "      <td>1</td>\n",
       "    </tr>\n",
       "    <tr>\n",
       "      <th>16</th>\n",
       "      <td>nhmommy1</td>\n",
       "      <td>scottadamssays</td>\n",
       "      <td>1</td>\n",
       "    </tr>\n",
       "    <tr>\n",
       "      <th>17</th>\n",
       "      <td>nhmommy1</td>\n",
       "      <td>therealjonadams</td>\n",
       "      <td>1</td>\n",
       "    </tr>\n",
       "    <tr>\n",
       "      <th>18</th>\n",
       "      <td>ronald_vanloon</td>\n",
       "      <td>granvilledsc</td>\n",
       "      <td>1</td>\n",
       "    </tr>\n",
       "    <tr>\n",
       "      <th>19</th>\n",
       "      <td>matthew____p</td>\n",
       "      <td>jskielb3</td>\n",
       "      <td>1</td>\n",
       "    </tr>\n",
       "  </tbody>\n",
       "</table>\n",
       "</div>"
      ],
      "text/plain": [
       "    user_mentions_1  user_mentions_2  counts\n",
       "0    ronald_vanloon  datasciencectrl       4\n",
       "1    ronald_vanloon   williamvorhies       3\n",
       "2    williamvorhies  datasciencectrl       3\n",
       "3      deeplearn007           gumgum       3\n",
       "4          johnhall           forbes       2\n",
       "5    ddsbleadership      equity_ddsb       2\n",
       "6        tylerpaolo      andrewlbeam       2\n",
       "7      hankmullaney         nhmommy1       1\n",
       "8      matthew____p  therealjonadams       1\n",
       "9      matthew____p   scottadamssays       1\n",
       "10  radgeekpartduex     hankmullaney       1\n",
       "11  radgeekpartduex         jskielb3       1\n",
       "12  radgeekpartduex         nhmommy1       1\n",
       "13  radgeekpartduex  therealjonadams       1\n",
       "14  radgeekpartduex   scottadamssays       1\n",
       "15     hankmullaney         jskielb3       1\n",
       "16         nhmommy1   scottadamssays       1\n",
       "17         nhmommy1  therealjonadams       1\n",
       "18   ronald_vanloon     granvilledsc       1\n",
       "19     matthew____p         jskielb3       1"
      ]
     },
     "execution_count": 35,
     "metadata": {},
     "output_type": "execute_result"
    }
   ],
   "source": [
    "df_entity_pairs.head(20)"
   ]
  },
  {
   "cell_type": "markdown",
   "metadata": {},
   "source": [
    "## Plot network"
   ]
  },
  {
   "cell_type": "code",
   "execution_count": 36,
   "metadata": {},
   "outputs": [],
   "source": [
    "G = nx.Graph()"
   ]
  },
  {
   "cell_type": "code",
   "execution_count": 37,
   "metadata": {},
   "outputs": [
    {
     "data": {
      "text/plain": [
       "defaultdict(int,\n",
       "            {'365surmariusz': 1,\n",
       "             '_farooqumar': 1,\n",
       "             'andrewlbeam': 4,\n",
       "             'andrewyng': 1,\n",
       "             'basmanbob': 1,\n",
       "             'brynmw': 1,\n",
       "             'ceejbot': 1,\n",
       "             'clareai_chatbot': 1,\n",
       "             'coursera': 1,\n",
       "             'datasciencectrl': 5,\n",
       "             'ddsbleadership': 2,\n",
       "             'deeplearn007': 18,\n",
       "             'dprasanthnair': 1,\n",
       "             'dynamicwebpaige': 1,\n",
       "             'equity_ddsb': 3,\n",
       "             'forbes': 2,\n",
       "             'gamerlearner': 1,\n",
       "             'geoworldmedia': 1,\n",
       "             'granvilledsc': 1,\n",
       "             'gumgum': 3,\n",
       "             'hankmullaney': 1,\n",
       "             'hiho_karuta': 4,\n",
       "             'iamjkeating': 1,\n",
       "             'intelai': 1,\n",
       "             'jason_pontin': 1,\n",
       "             'java': 1,\n",
       "             'johnhall': 2,\n",
       "             'jskielb3': 1,\n",
       "             'kgriffor': 1,\n",
       "             'kirkdborne': 4,\n",
       "             'l_xagas': 1,\n",
       "             'madrogran': 1,\n",
       "             'matthew____p': 1,\n",
       "             'nadia__rafiq': 1,\n",
       "             'nhmommy1': 1,\n",
       "             'noacktually': 1,\n",
       "             'nvidiadc': 1,\n",
       "             'ornl': 1,\n",
       "             'principaltam': 1,\n",
       "             'productivesys': 3,\n",
       "             'quantumspatial': 1,\n",
       "             'radgeekpartduex': 1,\n",
       "             'rci_wilsonj': 1,\n",
       "             'reactdom': 1,\n",
       "             'rebelscience': 1,\n",
       "             'rjurney': 1,\n",
       "             'ronald_vanloon': 4,\n",
       "             'sajidmirza': 9,\n",
       "             'scottadamssays': 1,\n",
       "             'spacewhalerider': 1,\n",
       "             'sternspeakers': 1,\n",
       "             'therealjonadams': 1,\n",
       "             'tishrich': 1,\n",
       "             'tjo_datasci': 1,\n",
       "             'tylerpaolo': 2,\n",
       "             'veazielions': 2,\n",
       "             'vectorzilla': 1,\n",
       "             'visiblelearning': 1,\n",
       "             'williamvorhies': 3,\n",
       "             'wired': 1,\n",
       "             'xero': 2})"
      ]
     },
     "execution_count": 37,
     "metadata": {},
     "output_type": "execute_result"
    }
   ],
   "source": [
    "entity_counts"
   ]
  },
  {
   "cell_type": "code",
   "execution_count": 38,
   "metadata": {},
   "outputs": [],
   "source": [
    "G.add_nodes_from(entity_counts)"
   ]
  },
  {
   "cell_type": "code",
   "execution_count": 39,
   "metadata": {},
   "outputs": [],
   "source": [
    "G.add_edges_from([\n",
    "    (k[0], k[1], {\"weight\": v})\n",
    "    for k, v in entity_network.items()\n",
    "])"
   ]
  },
  {
   "cell_type": "code",
   "execution_count": 40,
   "metadata": {},
   "outputs": [
    {
     "data": {
      "text/plain": [
       "(-1.0455662353682387,\n",
       " 1.0539559469778776,\n",
       " -1.099767924807054,\n",
       " 1.0951264209481315)"
      ]
     },
     "execution_count": 40,
     "metadata": {},
     "output_type": "execute_result"
    },
    {
     "data": {
      "image/png": "[encoded data removed]",
      "text/plain": [
       "<matplotlib.figure.Figure at 0x1cdaa61fc50>"
      ]
     },
     "metadata": {},
     "output_type": "display_data"
    }
   ],
   "source": [
    "fig, ax = plt.subplots(1,1, figsize=(16, 16))\n",
    "nx.draw_networkx(\n",
    "    G, with_labels=True,\n",
    "    node_size=[x[1]*3 for x in G.degree()],\n",
    "    pos=nx.spring_layout(G),\n",
    "    ax=ax\n",
    ")\n",
    "ax.axis(\"off\")"
   ]
  },
  {
   "cell_type": "code",
   "execution_count": 41,
   "metadata": {},
   "outputs": [
    {
     "name": "stdout",
     "output_type": "stream",
     "text": [
      "38 connected components found.\n"
     ]
    }
   ],
   "source": [
    "connected_components = sorted(nx.connected_component_subgraphs(G), key = len, reverse=True)\n",
    "print(\"{} connected components found.\".format(len(connected_components)))"
   ]
  },
  {
   "cell_type": "code",
   "execution_count": 42,
   "metadata": {},
   "outputs": [
    {
     "data": {
      "text/plain": [
       "(-1.0362026620494467,\n",
       " 1.1383559901392812,\n",
       " -1.1145056964776854,\n",
       " 1.1436730053104942)"
      ]
     },
     "execution_count": 42,
     "metadata": {},
     "output_type": "execute_result"
    },
    {
     "data": {
      "image/png": "[encoded data removed]",
      "text/plain": [
       "<matplotlib.figure.Figure at 0x1cdac6db3c8>"
      ]
     },
     "metadata": {},
     "output_type": "display_data"
    }
   ],
   "source": [
    "fig, ax = plt.subplots(1,1)\n",
    "nx.draw_networkx(\n",
    "    connected_components[0], with_labels=True,\n",
    "    node_size=[x[1]*100 for x in connected_components[0].degree()],\n",
    "    pos=nx.spring_layout(connected_components[0]),\n",
    "    width=0.1,\n",
    "    ax=ax\n",
    ")\n",
    "ax.axis(\"off\")"
   ]
  },
  {
   "cell_type": "code",
   "execution_count": 43,
   "metadata": {},
   "outputs": [],
   "source": [
    "d = G.degree()"
   ]
  },
  {
   "cell_type": "code",
   "execution_count": 44,
   "metadata": {},
   "outputs": [
    {
     "name": "stdout",
     "output_type": "stream",
     "text": [
      "('gamerlearner', 0)\n",
      "('deeplearn007', 2)\n",
      "('gumgum', 1)\n",
      "('ddsbleadership', 1)\n",
      "('equity_ddsb', 1)\n",
      "('rjurney', 0)\n",
      "('quantumspatial', 1)\n",
      "('geoworldmedia', 1)\n",
      "('noacktually', 1)\n",
      "('rci_wilsonj', 1)\n",
      "('kirkdborne', 0)\n",
      "('365surmariusz', 0)\n"
     ]
    }
   ],
   "source": [
    "for i, k in enumerate(d):\n",
    "    print(k)\n",
    "    if i > 10:\n",
    "        break"
   ]
  },
  {
   "cell_type": "code",
   "execution_count": 45,
   "metadata": {},
   "outputs": [
    {
     "data": {
      "image/png": "[encoded data removed]",
      "text/plain": [
       "<matplotlib.figure.Figure at 0x1cdaa6cc550>"
      ]
     },
     "metadata": {},
     "output_type": "display_data"
    }
   ],
   "source": [
    "fig, ax = plt.subplots(1,2, figsize=(16,8))\n",
    "degree_values = [v for k,v in G.degree()]\n",
    "ax[0].hist(list(degree_values), bins=list(range(max(degree_values))), log=True)\n",
    "ax[0].set_xlabel(\"Degree\")\n",
    "ax[0].set_ylabel(\"Frequency\")\n",
    "\n",
    "ax[1].hist(list(entity_counts.values()), bins=list(range(max(entity_counts.values()))), log=True)\n",
    "ax[1].set_xlabel(\"Counts\")\n",
    "ax[1].set_ylabel(\"Frequency\")\n",
    "sns.despine(offset=10)"
   ]
  },
  {
   "cell_type": "markdown",
   "metadata": {},
   "source": [
    "### Why are the graphs different?\n",
    "Concept of weights"
   ]
  },
  {
   "cell_type": "code",
   "execution_count": 46,
   "metadata": {},
   "outputs": [
    {
     "data": {
      "image/png": "[encoded data removed]",
      "text/plain": [
       "<matplotlib.figure.Figure at 0x1cdaa6921d0>"
      ]
     },
     "metadata": {},
     "output_type": "display_data"
    }
   ],
   "source": [
    "from nxviz.plots import CircosPlot\n",
    "\n",
    "# Assume we have a professional network of physicians belonging\n",
    "# to hospitals.\n",
    "c = CircosPlot(G)\n",
    "c.draw()\n",
    "\n",
    "plt.show()  # only needed in scripts"
   ]
  },
  {
   "cell_type": "code",
   "execution_count": null,
   "metadata": {},
   "outputs": [],
   "source": []
  }
 ],
 "metadata": {
  "anaconda-cloud": {},
  "kernelspec": {
   "display_name": "Python 3",
   "language": "python",
   "name": "python3"
  },
  "language_info": {
   "codemirror_mode": {
    "name": "ipython",
    "version": 3
   },
   "file_extension": ".py",
   "mimetype": "text/x-python",
   "name": "python",
   "nbconvert_exporter": "python",
   "pygments_lexer": "ipython3",
   "version": "3.6.4"
  }
 },
 "nbformat": 4,
 "nbformat_minor": 1
}
