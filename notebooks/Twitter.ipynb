{
 "cells": [
  {
   "cell_type": "code",
   "execution_count": null,
   "metadata": {},
   "outputs": [],
   "source": [
    "%matplotlib inline\n",
    "\n",
    "import tweepy as tw\n",
    "import json\n",
    "import pandas as pd\n",
    "import numpy as np\n",
    "\n",
    "from collections import defaultdict, Counter\n",
    "import os\n",
    "from IPython.display import clear_output\n",
    "\n",
    "import networkx as nx\n",
    "\n",
    "\n",
    "import matplotlib.pyplot as plt\n",
    "import seaborn as sns\n",
    "\n",
    "from io import StringIO\n",
    "from pydotplus import graph_from_dot_data\n",
    "import matplotlib.image as mpimg"
   ]
  },
  {
   "cell_type": "code",
   "execution_count": null,
   "metadata": {},
   "outputs": [],
   "source": [
    "sns.set_context(\"poster\")\n",
    "sns.set_style(\"ticks\")"
   ]
  },
  {
   "cell_type": "code",
   "execution_count": null,
   "metadata": {},
   "outputs": [],
   "source": [
    "DATA_DIR=\"../data\"\n",
    "TWITTER_CONFIG_FILE=os.path.join(DATA_DIR, \"twitter_config.json\")"
   ]
  },
  {
   "cell_type": "markdown",
   "metadata": {},
   "source": [
    "## Twitter Access Tokens\n",
    "\n",
    "If you are proceeding further then you are expected to have created your Twitter application by following the steps from [Twitter App Creation](https://dev.twitter.com/oauth/overview/application-owner-access-tokens) page. \n",
    "\n",
    "Make sure you have the following details of your Twitter application readily available:\n",
    "* 'access_token'\n",
    "* 'access_token_secret'\n",
    "* 'consumer_key'\n",
    "* 'consumer_secret'\n",
    "\n",
    "Please enter the value of each of the items as shown in your Twitter application, when prompted by the code below.\n"
   ]
  },
  {
   "cell_type": "code",
   "execution_count": null,
   "metadata": {},
   "outputs": [],
   "source": [
    "if not os.path.isfile(TWITTER_CONFIG_FILE):\n",
    "    with open(os.path.join(DATA_DIR, \"twitter_config.sample.json\")) as fp:\n",
    "        creds = json.load(fp)\n",
    "        for k in sorted(creds.keys()):\n",
    "            v = input(\"Enter %s:\\t\" % k)\n",
    "            creds[k] = v\n",
    "    print(creds)\n",
    "    with open(TWITTER_CONFIG_FILE, \"w+\") as fp:\n",
    "        json.dump(creds, fp, indent=4, sort_keys=True)\n",
    "    clear_output()\n",
    "    print(\"Printed credentials to file %s\" % TWITTER_CONFIG_FILE)"
   ]
  },
  {
   "cell_type": "code",
   "execution_count": null,
   "metadata": {},
   "outputs": [],
   "source": [
    "with open(TWITTER_CONFIG_FILE) as fp:\n",
    "    creds = json.load(fp)\n",
    "print(creds.keys())"
   ]
  },
  {
   "cell_type": "code",
   "execution_count": null,
   "metadata": {},
   "outputs": [],
   "source": [
    "auth = tw.OAuthHandler(creds[\"consumer_key\"], creds[\"consumer_secret\"])\n",
    "auth.set_access_token(creds[\"access_token\"], creds[\"access_token_secret\"])\n",
    "api = tw.API(auth, wait_on_rate_limit=True, wait_on_rate_limit_notify=True,\n",
    "             retry_count=5, retry_delay=100, \n",
    "            )\n",
    "\n",
    "print(\"Tweepy ready for search\")"
   ]
  },
  {
   "cell_type": "code",
   "execution_count": null,
   "metadata": {},
   "outputs": [],
   "source": [
    "statuses = api.search(q=input(\"What is your search term?\"), count=10)"
   ]
  },
  {
   "cell_type": "code",
   "execution_count": null,
   "metadata": {},
   "outputs": [],
   "source": [
    "len(statuses)"
   ]
  },
  {
   "cell_type": "code",
   "execution_count": null,
   "metadata": {},
   "outputs": [],
   "source": [
    "for status in statuses:\n",
    "    print(status.text)"
   ]
  },
  {
   "cell_type": "code",
   "execution_count": null,
   "metadata": {},
   "outputs": [],
   "source": [
    "def dict2df(data):\n",
    "    return pd.DataFrame(\n",
    "        list(data.items()),\n",
    "        columns=[\"item\", \"counts\"]\n",
    "    ).sort_values(\"counts\", ascending=False)\n",
    "\n",
    "def get_entities(statuses):\n",
    "    hashtags = defaultdict(int)\n",
    "    mentions = defaultdict(int)\n",
    "    keys = (\"hashtags\", \"user_mentions\")\n",
    "    for s in statuses:\n",
    "        entities = s.entities\n",
    "        if \"hashtags\" in entities:\n",
    "            e = map(lambda x: x[\"text\"], entities[\"hashtags\"])\n",
    "            for t in e:\n",
    "                hashtags[t] += 1\n",
    "        if \"user_mentions\" in entities:\n",
    "            e = map(lambda x: x[\"screen_name\"], entities[\"user_mentions\"])\n",
    "            for t in e:\n",
    "                mentions[t] += 1\n",
    "    return dict2df(hashtags), dict2df(mentions)"
   ]
  },
  {
   "cell_type": "code",
   "execution_count": null,
   "metadata": {},
   "outputs": [],
   "source": [
    "hashtags, mentions = get_entities(statuses)"
   ]
  },
  {
   "cell_type": "code",
   "execution_count": null,
   "metadata": {},
   "outputs": [],
   "source": [
    "len(statuses)"
   ]
  },
  {
   "cell_type": "code",
   "execution_count": null,
   "metadata": {},
   "outputs": [],
   "source": [
    "hashtags"
   ]
  },
  {
   "cell_type": "code",
   "execution_count": null,
   "metadata": {},
   "outputs": [],
   "source": [
    "mentions"
   ]
  },
  {
   "cell_type": "markdown",
   "metadata": {},
   "source": [
    "## Current user's information"
   ]
  },
  {
   "cell_type": "code",
   "execution_count": null,
   "metadata": {},
   "outputs": [],
   "source": [
    "current_user = api.me()\n",
    "current_user"
   ]
  },
  {
   "cell_type": "code",
   "execution_count": null,
   "metadata": {},
   "outputs": [],
   "source": [
    "status"
   ]
  },
  {
   "cell_type": "code",
   "execution_count": null,
   "metadata": {},
   "outputs": [],
   "source": [
    "print(\n",
    "\"\"\"Username: {}\n",
    "Full Name: {}\n",
    "# Followers: {}\n",
    "# Friends: {}\n",
    "# Statuses: {}\"\"\".format(\n",
    "        current_user.screen_name,\n",
    "        current_user.name,\n",
    "        current_user.followers_count,\n",
    "        current_user.friends_count,\n",
    "        current_user.statuses_count\n",
    "    )\n",
    ")"
   ]
  },
  {
   "cell_type": "markdown",
   "metadata": {
    "collapsed": true
   },
   "source": [
    "## Friends API"
   ]
  },
  {
   "cell_type": "code",
   "execution_count": null,
   "metadata": {},
   "outputs": [],
   "source": [
    "friends = []\n",
    "for friend in tw.Cursor(api.friends, count=100).items():\n",
    "    friends.append(friend)\n",
    "print(\"{} friends found for {}\".format(len(friends), current_user.name))"
   ]
  },
  {
   "cell_type": "code",
   "execution_count": null,
   "metadata": {},
   "outputs": [],
   "source": [
    "df_friends = pd.DataFrame(\n",
    "    list(map(\n",
    "        lambda k: (k.id, k.name, k.friends_count, k.followers_count, k.statuses_count),\n",
    "        friends\n",
    "    )), columns=[\"id\", \"name\", \"friends\", \"followers\", \"statuses\"]\n",
    ").sort_values(\"followers\", ascending=False).reset_index(drop=True)\n",
    "df_friends.head(15)"
   ]
  },
  {
   "cell_type": "code",
   "execution_count": null,
   "metadata": {},
   "outputs": [],
   "source": [
    "network = np.zeros([df_friends.shape[0], df_friends.shape[0]])\n",
    "network.shape"
   ]
  },
  {
   "cell_type": "code",
   "execution_count": null,
   "metadata": {},
   "outputs": [],
   "source": [
    "def get_friendship(id1, id2, verbose=False):\n",
    "    response = api.show_friendship(source_id=id1, target_id=id2)\n",
    "    if verbose:\n",
    "        print(response)\n",
    "    return response[0].following, response[1].following\n",
    "    "
   ]
  },
  {
   "cell_type": "code",
   "execution_count": null,
   "metadata": {},
   "outputs": [],
   "source": [
    "get_friendship(df_friends[\"id\"].values[0], df_friends[\"id\"].values[1], verbose=True)"
   ]
  },
  {
   "cell_type": "code",
   "execution_count": null,
   "metadata": {},
   "outputs": [],
   "source": [
    "network[0, 0] = False\n",
    "network[1, 0] = True\n",
    "network[0:3, 0]"
   ]
  },
  {
   "cell_type": "code",
   "execution_count": null,
   "metadata": {},
   "outputs": [],
   "source": [
    "def generate_ego_network(df_friends):\n",
    "    network = np.zeros([df_friends.shape[0], df_friends.shape[0]])\n",
    "    processed_friendships=0\n",
    "    for i, fid1 in enumerate(df_friends[\"id\"].values):\n",
    "        for j, fid2 in enumerate(df_friends[\"id\"].values[i+1:], start=i+1):\n",
    "            try:\n",
    "                tie_labels = get_friendship(fid1, fid2)\n",
    "                processed_friendships += 1\n",
    "            except:\n",
    "                print(\"Processed friendships = {}\".format(processed_friendships))\n",
    "                print(\"Error occurred\")\n",
    "                return network\n",
    "            network[i, j] = tie_labels[0]\n",
    "            network[j, i] = tie_labels[1]\n",
    "    return network"
   ]
  },
  {
   "cell_type": "code",
   "execution_count": null,
   "metadata": {},
   "outputs": [],
   "source": [
    "df_friends.tail()"
   ]
  },
  {
   "cell_type": "markdown",
   "metadata": {},
   "source": [
    "## Generate user mention network"
   ]
  },
  {
   "cell_type": "code",
   "execution_count": null,
   "metadata": {},
   "outputs": [],
   "source": [
    "statuses = [status for status in tw.Cursor(\n",
    "    api.search, q=input(\"What is your search term?\"), count=100).items(100)]"
   ]
  },
  {
   "cell_type": "code",
   "execution_count": null,
   "metadata": {},
   "outputs": [],
   "source": [
    "len(statuses)"
   ]
  },
  {
   "cell_type": "code",
   "execution_count": null,
   "metadata": {},
   "outputs": [],
   "source": [
    "status = next(filter(lambda x: len(x.entities[\"hashtags\"]), statuses))"
   ]
  },
  {
   "cell_type": "code",
   "execution_count": null,
   "metadata": {},
   "outputs": [],
   "source": [
    "status.entities"
   ]
  },
  {
   "cell_type": "code",
   "execution_count": null,
   "metadata": {},
   "outputs": [],
   "source": [
    "def get_entities(statuses, entity_type, text_property):\n",
    "    entity_counts = defaultdict(int)\n",
    "    entity_network = defaultdict(int)\n",
    "    for status in statuses:\n",
    "        for i, entity in enumerate(status.entities[entity_type]):\n",
    "            entity_counts[entity[text_property].lower()] += 1\n",
    "            for j, entity_2 in enumerate(status.entities[entity_type][i+1:], start=i+1):\n",
    "                entity_network[(\n",
    "                    entity[text_property].lower(),\n",
    "                    entity_2[text_property].lower()\n",
    "                )] += 1\n",
    "    return entity_counts, entity_network"
   ]
  },
  {
   "cell_type": "code",
   "execution_count": null,
   "metadata": {},
   "outputs": [],
   "source": [
    "entity_type=\"user_mentions\"\n",
    "text_property=\"screen_name\"\n",
    "entity_counts, entity_network = get_entities(statuses, entity_type, text_property)"
   ]
  },
  {
   "cell_type": "code",
   "execution_count": null,
   "metadata": {},
   "outputs": [],
   "source": [
    "df_entities = pd.DataFrame(list(entity_counts.items()),\n",
    "                           columns=[\"entity\", \"counts\"]).sort_values(\n",
    "    \"counts\", ascending=False\n",
    ").reset_index(drop=True)\n",
    "df_entities.head()"
   ]
  },
  {
   "cell_type": "code",
   "execution_count": null,
   "metadata": {},
   "outputs": [],
   "source": [
    "df_entities.head(20)"
   ]
  },
  {
   "cell_type": "code",
   "execution_count": null,
   "metadata": {},
   "outputs": [],
   "source": [
    "df_entity_pairs = pd.DataFrame([(k1, k2, v) for (k1,k2), v in entity_network.items()],\n",
    "                           columns=[\n",
    "                               \"{}_1\".format(entity_type),\n",
    "                               \"{}_2\".format(entity_type),\n",
    "                               \"counts\"]).sort_values(\n",
    "    \"counts\", ascending=False\n",
    ").reset_index(drop=True)\n",
    "df_entity_pairs.head()"
   ]
  },
  {
   "cell_type": "code",
   "execution_count": null,
   "metadata": {},
   "outputs": [],
   "source": [
    "df_entity_pairs.head(20)"
   ]
  },
  {
   "cell_type": "markdown",
   "metadata": {},
   "source": [
    "## Plot network"
   ]
  },
  {
   "cell_type": "code",
   "execution_count": null,
   "metadata": {},
   "outputs": [],
   "source": [
    "G = nx.Graph()"
   ]
  },
  {
   "cell_type": "code",
   "execution_count": null,
   "metadata": {},
   "outputs": [],
   "source": [
    "G.add_nodes_from(entity_counts)"
   ]
  },
  {
   "cell_type": "code",
   "execution_count": null,
   "metadata": {},
   "outputs": [],
   "source": [
    "G.add_edges_from([\n",
    "    (k[0], k[1], {\"weight\": v})\n",
    "    for k, v in entity_network.items()\n",
    "])"
   ]
  },
  {
   "cell_type": "code",
   "execution_count": null,
   "metadata": {},
   "outputs": [],
   "source": [
    "fig, ax = plt.subplots(1,1)\n",
    "nx.draw_networkx(\n",
    "    G, with_labels=True,\n",
    "    node_size=[x[1]*3 for x in G.degree()],\n",
    "    pos=nx.spring_layout(G),\n",
    "    ax=ax\n",
    ")\n",
    "ax.axis(\"off\")"
   ]
  },
  {
   "cell_type": "code",
   "execution_count": null,
   "metadata": {},
   "outputs": [],
   "source": [
    "connected_components = sorted(nx.connected_component_subgraphs(G), key = len, reverse=True)\n",
    "print(\"{} connected components found.\".format(len(connected_components)))"
   ]
  },
  {
   "cell_type": "code",
   "execution_count": null,
   "metadata": {},
   "outputs": [],
   "source": [
    "fig, ax = plt.subplots(1,1)\n",
    "nx.draw_networkx(\n",
    "    connected_components[0], with_labels=True,\n",
    "    node_size=[x[1]*5 for x in connected_components[0].degree()],\n",
    "    pos=nx.spring_layout(connected_components[0]),\n",
    "    ax=ax\n",
    ")\n",
    "ax.axis(\"off\")"
   ]
  },
  {
   "cell_type": "code",
   "execution_count": null,
   "metadata": {},
   "outputs": [],
   "source": [
    "d = G.degree()"
   ]
  },
  {
   "cell_type": "code",
   "execution_count": null,
   "metadata": {},
   "outputs": [],
   "source": [
    "for i, k in enumerate(d):\n",
    "    print(k)\n",
    "    if i > 10:\n",
    "        break"
   ]
  },
  {
   "cell_type": "code",
   "execution_count": null,
   "metadata": {},
   "outputs": [],
   "source": [
    "fig, ax = plt.subplots(1,2, figsize=(16,8))\n",
    "degree_values = [v for k,v in G.degree()]\n",
    "ax[0].hist(list(degree_values), bins=list(range(max(degree_values))), log=True)\n",
    "ax[0].set_xlabel(\"Degree\")\n",
    "ax[0].set_ylabel(\"Frequency\")\n",
    "\n",
    "ax[1].hist(list(entity_counts.values()), bins=list(range(max(entity_counts.values()))), log=True)\n",
    "ax[1].set_xlabel(\"Counts\")\n",
    "ax[1].set_ylabel(\"Frequency\")\n",
    "sns.despine(offset=10)"
   ]
  },
  {
   "cell_type": "markdown",
   "metadata": {},
   "source": [
    "### Why are the graphs different?\n",
    "Concept of weights"
   ]
  },
  {
   "cell_type": "code",
   "execution_count": null,
   "metadata": {},
   "outputs": [],
   "source": [
    "from nxviz.plots import CircosPlot\n",
    "\n",
    "# Assume we have a professional network of physicians belonging\n",
    "# to hospitals.\n",
    "c = CircosPlot(G)\n",
    "c.draw()\n",
    "\n",
    "plt.show()  # only needed in scripts"
   ]
  },
  {
   "cell_type": "code",
   "execution_count": null,
   "metadata": {},
   "outputs": [],
   "source": []
  }
 ],
 "metadata": {
  "anaconda-cloud": {},
  "kernelspec": {
   "display_name": "Python 3",
   "language": "python",
   "name": "python3"
  },
  "language_info": {
   "codemirror_mode": {
    "name": "ipython",
    "version": 3
   },
   "file_extension": ".py",
   "mimetype": "text/x-python",
   "name": "python",
   "nbconvert_exporter": "python",
   "pygments_lexer": "ipython3",
   "version": "3.6.4"
  }
 },
 "nbformat": 4,
 "nbformat_minor": 1
}
